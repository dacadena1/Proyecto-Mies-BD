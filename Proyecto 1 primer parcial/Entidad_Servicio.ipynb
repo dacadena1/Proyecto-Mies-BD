{
  "nbformat": 4,
  "nbformat_minor": 0,
  "metadata": {
    "colab": {
      "provenance": []
    },
    "kernelspec": {
      "name": "python3",
      "display_name": "Python 3"
    },
    "language_info": {
      "name": "python"
    }
  },
  "cells": [
    {
      "cell_type": "code",
      "execution_count": 49,
      "metadata": {
        "colab": {
          "base_uri": "https://localhost:8080/"
        },
        "id": "Jq8fgvmPVMF1",
        "outputId": "d9be3a04-ed63-4836-fb20-a49e4bb318f3"
      },
      "outputs": [
        {
          "output_type": "stream",
          "name": "stdout",
          "text": [
            "Looking in indexes: https://pypi.org/simple, https://us-python.pkg.dev/colab-wheels/public/simple/\n",
            "Requirement already satisfied: faker in /usr/local/lib/python3.7/dist-packages (15.3.2)\n",
            "Requirement already satisfied: typing-extensions>=3.10.0.1 in /usr/local/lib/python3.7/dist-packages (from faker) (4.1.1)\n",
            "Requirement already satisfied: python-dateutil>=2.4 in /usr/local/lib/python3.7/dist-packages (from faker) (2.8.2)\n",
            "Requirement already satisfied: six>=1.5 in /usr/local/lib/python3.7/dist-packages (from python-dateutil>=2.4->faker) (1.15.0)\n"
          ]
        }
      ],
      "source": [
        "pip install faker"
      ]
    },
    {
      "cell_type": "code",
      "source": [
        "pip install features"
      ],
      "metadata": {
        "colab": {
          "base_uri": "https://localhost:8080/"
        },
        "id": "jhOotbnRVeAD",
        "outputId": "a42dc3de-102b-4911-c9c0-5019a70bccde"
      },
      "execution_count": 50,
      "outputs": [
        {
          "output_type": "stream",
          "name": "stdout",
          "text": [
            "Looking in indexes: https://pypi.org/simple, https://us-python.pkg.dev/colab-wheels/public/simple/\n",
            "Requirement already satisfied: features in /usr/local/lib/python3.7/dist-packages (0.5.12)\n",
            "Requirement already satisfied: graphviz~=0.7 in /usr/local/lib/python3.7/dist-packages (from features) (0.10.1)\n",
            "Requirement already satisfied: concepts~=0.7 in /usr/local/lib/python3.7/dist-packages (from features) (0.9.2)\n",
            "Requirement already satisfied: fileconfig~=0.5 in /usr/local/lib/python3.7/dist-packages (from features) (0.6.1)\n",
            "Requirement already satisfied: bitsets~=0.7 in /usr/local/lib/python3.7/dist-packages (from concepts~=0.7->features) (0.8.4)\n"
          ]
        }
      ]
    },
    {
      "cell_type": "code",
      "source": [
        "import pandas as pd \n",
        "import uuid  \n",
        "import random        #random para operar o generar números aleatorios\n",
        "from faker import Faker #faker para manejar cualquier informacion artificial\n",
        "import datetime      #importamos datetime permite manipular fechas y horas\n",
        "import features      #crear y seleccionar automáticamente características importantes en su conjunto de datos "
      ],
      "metadata": {
        "id": "CNtHwO3hVhJM"
      },
      "execution_count": 51,
      "outputs": []
    },
    {
      "cell_type": "code",
      "source": [
        "#El tamaño del conjunto de datos será de 5000 Usuarios \n",
        "num_users = 5000"
      ],
      "metadata": {
        "id": "dTmz6mh8Vjri"
      },
      "execution_count": 52,
      "outputs": []
    },
    {
      "cell_type": "code",
      "source": [
        "# A list of 5 features\n",
        "features = [\n",
        "    \"IDServicio\",\n",
        "    \"TipoServicio\",\n",
        "    \"NombreServicio\"\n",
        "]# Creating a DF for these features\n",
        "df = pd.DataFrame(columns=features)"
      ],
      "metadata": {
        "id": "4ubkj-DyVmHd"
      },
      "execution_count": 53,
      "outputs": []
    },
    {
      "cell_type": "code",
      "source": [
        "df['IDServicio'] = [uuid.uuid4().hex for i in range(num_users)]"
      ],
      "metadata": {
        "id": "w1TTZKyJgjKU"
      },
      "execution_count": 54,
      "outputs": []
    },
    {
      "cell_type": "markdown",
      "source": [
        "Creamos los datos para el tipo o nombre de Bono"
      ],
      "metadata": {
        "id": "vt5lWCoBWv2e"
      }
    },
    {
      "cell_type": "code",
      "source": [
        "tiposervicio = [\"infantil integral\", \"Poblacion Adulta Mayor\",\"Externos\"]"
      ],
      "metadata": {
        "id": "LpARprSZV_Mr"
      },
      "execution_count": 55,
      "outputs": []
    },
    {
      "cell_type": "code",
      "source": [
        "df['TipoServicio'] = random.choices(\n",
        "    tiposervicio,\n",
        "    weights=(40,40,20), \n",
        "    k=num_users\n",
        ")"
      ],
      "metadata": {
        "id": "xDuPe29jWfdc"
      },
      "execution_count": 56,
      "outputs": []
    },
    {
      "cell_type": "code",
      "source": [
        "nombreserivicio=[\"CNH\",\"Atencion Domiciliaria\",\"SECAP\"]"
      ],
      "metadata": {
        "id": "aUTbQqvIh4Wt"
      },
      "execution_count": 57,
      "outputs": []
    },
    {
      "cell_type": "code",
      "source": [
        "# Instantiating faker\n",
        "faker = Faker()\n",
        "\n",
        "def name_service(tiposervicio):\n",
        "    \"\"\"\n",
        "    Quickly generates a name based on gender\n",
        "    \"\"\"\n",
        "    if tiposervicio=='infantil integral':\n",
        "        return nombreserivicio[0]\n",
        "    elif tiposervicio=='Poblacion Adulta Mayor':\n",
        "        return nombreserivicio[1]\n",
        "    \n",
        "    return nombreserivicio[2]# Generating names for each user\n",
        "df['NombreServicio'] = [name_service(i) for i in df['TipoServicio']]"
      ],
      "metadata": {
        "id": "IH-jjCvVhnUe"
      },
      "execution_count": 58,
      "outputs": []
    },
    {
      "cell_type": "code",
      "source": [
        "df.to_csv('dataset_users.csv')"
      ],
      "metadata": {
        "id": "VB5EscyiY8dT"
      },
      "execution_count": 59,
      "outputs": []
    },
    {
      "cell_type": "code",
      "source": [
        "df"
      ],
      "metadata": {
        "colab": {
          "base_uri": "https://localhost:8080/",
          "height": 424
        },
        "id": "K3aGRl0sY9hT",
        "outputId": "4b1ffc09-3977-469f-de9c-8aa23d8ca4bc"
      },
      "execution_count": 60,
      "outputs": [
        {
          "output_type": "execute_result",
          "data": {
            "text/plain": [
              "                            IDServicio            TipoServicio  \\\n",
              "0     ccd28e3a6eea4bdd970846487f412e81                Externos   \n",
              "1     fe9a7856b7c949868248005e4bec86a8                Externos   \n",
              "2     c296fe9bdf314144bd92d0c50a0cba0c  Poblacion Adulta Mayor   \n",
              "3     feeba7bacb9a4e08b727a2e461b391bf                Externos   \n",
              "4     46e15724240c4e1ab618d5929b695c7c       infantil integral   \n",
              "...                                ...                     ...   \n",
              "4995  68104f0c66d9415db36ac75c2139ec95                Externos   \n",
              "4996  622287e357b8491f9440692a05b25420                Externos   \n",
              "4997  d625fc91c70447659d8ee1e4bfc80037       infantil integral   \n",
              "4998  1b0fc787c1a740c099443a12d2089dbc       infantil integral   \n",
              "4999  884cdde056c44d56b06848d3b93c2d94                Externos   \n",
              "\n",
              "             NombreServicio  \n",
              "0                     SECAP  \n",
              "1                     SECAP  \n",
              "2     Atencion Domiciliaria  \n",
              "3                     SECAP  \n",
              "4                       CNH  \n",
              "...                     ...  \n",
              "4995                  SECAP  \n",
              "4996                  SECAP  \n",
              "4997                    CNH  \n",
              "4998                    CNH  \n",
              "4999                  SECAP  \n",
              "\n",
              "[5000 rows x 3 columns]"
            ],
            "text/html": [
              "\n",
              "  <div id=\"df-a8c059e1-3473-4bbd-b0d1-8abbb55e8eb3\">\n",
              "    <div class=\"colab-df-container\">\n",
              "      <div>\n",
              "<style scoped>\n",
              "    .dataframe tbody tr th:only-of-type {\n",
              "        vertical-align: middle;\n",
              "    }\n",
              "\n",
              "    .dataframe tbody tr th {\n",
              "        vertical-align: top;\n",
              "    }\n",
              "\n",
              "    .dataframe thead th {\n",
              "        text-align: right;\n",
              "    }\n",
              "</style>\n",
              "<table border=\"1\" class=\"dataframe\">\n",
              "  <thead>\n",
              "    <tr style=\"text-align: right;\">\n",
              "      <th></th>\n",
              "      <th>IDServicio</th>\n",
              "      <th>TipoServicio</th>\n",
              "      <th>NombreServicio</th>\n",
              "    </tr>\n",
              "  </thead>\n",
              "  <tbody>\n",
              "    <tr>\n",
              "      <th>0</th>\n",
              "      <td>ccd28e3a6eea4bdd970846487f412e81</td>\n",
              "      <td>Externos</td>\n",
              "      <td>SECAP</td>\n",
              "    </tr>\n",
              "    <tr>\n",
              "      <th>1</th>\n",
              "      <td>fe9a7856b7c949868248005e4bec86a8</td>\n",
              "      <td>Externos</td>\n",
              "      <td>SECAP</td>\n",
              "    </tr>\n",
              "    <tr>\n",
              "      <th>2</th>\n",
              "      <td>c296fe9bdf314144bd92d0c50a0cba0c</td>\n",
              "      <td>Poblacion Adulta Mayor</td>\n",
              "      <td>Atencion Domiciliaria</td>\n",
              "    </tr>\n",
              "    <tr>\n",
              "      <th>3</th>\n",
              "      <td>feeba7bacb9a4e08b727a2e461b391bf</td>\n",
              "      <td>Externos</td>\n",
              "      <td>SECAP</td>\n",
              "    </tr>\n",
              "    <tr>\n",
              "      <th>4</th>\n",
              "      <td>46e15724240c4e1ab618d5929b695c7c</td>\n",
              "      <td>infantil integral</td>\n",
              "      <td>CNH</td>\n",
              "    </tr>\n",
              "    <tr>\n",
              "      <th>...</th>\n",
              "      <td>...</td>\n",
              "      <td>...</td>\n",
              "      <td>...</td>\n",
              "    </tr>\n",
              "    <tr>\n",
              "      <th>4995</th>\n",
              "      <td>68104f0c66d9415db36ac75c2139ec95</td>\n",
              "      <td>Externos</td>\n",
              "      <td>SECAP</td>\n",
              "    </tr>\n",
              "    <tr>\n",
              "      <th>4996</th>\n",
              "      <td>622287e357b8491f9440692a05b25420</td>\n",
              "      <td>Externos</td>\n",
              "      <td>SECAP</td>\n",
              "    </tr>\n",
              "    <tr>\n",
              "      <th>4997</th>\n",
              "      <td>d625fc91c70447659d8ee1e4bfc80037</td>\n",
              "      <td>infantil integral</td>\n",
              "      <td>CNH</td>\n",
              "    </tr>\n",
              "    <tr>\n",
              "      <th>4998</th>\n",
              "      <td>1b0fc787c1a740c099443a12d2089dbc</td>\n",
              "      <td>infantil integral</td>\n",
              "      <td>CNH</td>\n",
              "    </tr>\n",
              "    <tr>\n",
              "      <th>4999</th>\n",
              "      <td>884cdde056c44d56b06848d3b93c2d94</td>\n",
              "      <td>Externos</td>\n",
              "      <td>SECAP</td>\n",
              "    </tr>\n",
              "  </tbody>\n",
              "</table>\n",
              "<p>5000 rows × 3 columns</p>\n",
              "</div>\n",
              "      <button class=\"colab-df-convert\" onclick=\"convertToInteractive('df-a8c059e1-3473-4bbd-b0d1-8abbb55e8eb3')\"\n",
              "              title=\"Convert this dataframe to an interactive table.\"\n",
              "              style=\"display:none;\">\n",
              "        \n",
              "  <svg xmlns=\"http://www.w3.org/2000/svg\" height=\"24px\"viewBox=\"0 0 24 24\"\n",
              "       width=\"24px\">\n",
              "    <path d=\"M0 0h24v24H0V0z\" fill=\"none\"/>\n",
              "    <path d=\"M18.56 5.44l.94 2.06.94-2.06 2.06-.94-2.06-.94-.94-2.06-.94 2.06-2.06.94zm-11 1L8.5 8.5l.94-2.06 2.06-.94-2.06-.94L8.5 2.5l-.94 2.06-2.06.94zm10 10l.94 2.06.94-2.06 2.06-.94-2.06-.94-.94-2.06-.94 2.06-2.06.94z\"/><path d=\"M17.41 7.96l-1.37-1.37c-.4-.4-.92-.59-1.43-.59-.52 0-1.04.2-1.43.59L10.3 9.45l-7.72 7.72c-.78.78-.78 2.05 0 2.83L4 21.41c.39.39.9.59 1.41.59.51 0 1.02-.2 1.41-.59l7.78-7.78 2.81-2.81c.8-.78.8-2.07 0-2.86zM5.41 20L4 18.59l7.72-7.72 1.47 1.35L5.41 20z\"/>\n",
              "  </svg>\n",
              "      </button>\n",
              "      \n",
              "  <style>\n",
              "    .colab-df-container {\n",
              "      display:flex;\n",
              "      flex-wrap:wrap;\n",
              "      gap: 12px;\n",
              "    }\n",
              "\n",
              "    .colab-df-convert {\n",
              "      background-color: #E8F0FE;\n",
              "      border: none;\n",
              "      border-radius: 50%;\n",
              "      cursor: pointer;\n",
              "      display: none;\n",
              "      fill: #1967D2;\n",
              "      height: 32px;\n",
              "      padding: 0 0 0 0;\n",
              "      width: 32px;\n",
              "    }\n",
              "\n",
              "    .colab-df-convert:hover {\n",
              "      background-color: #E2EBFA;\n",
              "      box-shadow: 0px 1px 2px rgba(60, 64, 67, 0.3), 0px 1px 3px 1px rgba(60, 64, 67, 0.15);\n",
              "      fill: #174EA6;\n",
              "    }\n",
              "\n",
              "    [theme=dark] .colab-df-convert {\n",
              "      background-color: #3B4455;\n",
              "      fill: #D2E3FC;\n",
              "    }\n",
              "\n",
              "    [theme=dark] .colab-df-convert:hover {\n",
              "      background-color: #434B5C;\n",
              "      box-shadow: 0px 1px 3px 1px rgba(0, 0, 0, 0.15);\n",
              "      filter: drop-shadow(0px 1px 2px rgba(0, 0, 0, 0.3));\n",
              "      fill: #FFFFFF;\n",
              "    }\n",
              "  </style>\n",
              "\n",
              "      <script>\n",
              "        const buttonEl =\n",
              "          document.querySelector('#df-a8c059e1-3473-4bbd-b0d1-8abbb55e8eb3 button.colab-df-convert');\n",
              "        buttonEl.style.display =\n",
              "          google.colab.kernel.accessAllowed ? 'block' : 'none';\n",
              "\n",
              "        async function convertToInteractive(key) {\n",
              "          const element = document.querySelector('#df-a8c059e1-3473-4bbd-b0d1-8abbb55e8eb3');\n",
              "          const dataTable =\n",
              "            await google.colab.kernel.invokeFunction('convertToInteractive',\n",
              "                                                     [key], {});\n",
              "          if (!dataTable) return;\n",
              "\n",
              "          const docLinkHtml = 'Like what you see? Visit the ' +\n",
              "            '<a target=\"_blank\" href=https://colab.research.google.com/notebooks/data_table.ipynb>data table notebook</a>'\n",
              "            + ' to learn more about interactive tables.';\n",
              "          element.innerHTML = '';\n",
              "          dataTable['output_type'] = 'display_data';\n",
              "          await google.colab.output.renderOutput(dataTable, element);\n",
              "          const docLink = document.createElement('div');\n",
              "          docLink.innerHTML = docLinkHtml;\n",
              "          element.appendChild(docLink);\n",
              "        }\n",
              "      </script>\n",
              "    </div>\n",
              "  </div>\n",
              "  "
            ]
          },
          "metadata": {},
          "execution_count": 60
        }
      ]
    }
  ]
}