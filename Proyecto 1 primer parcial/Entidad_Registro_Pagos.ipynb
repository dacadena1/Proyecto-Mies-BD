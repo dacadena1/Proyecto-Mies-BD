{
  "nbformat": 4,
  "nbformat_minor": 0,
  "metadata": {
    "colab": {
      "provenance": []
    },
    "kernelspec": {
      "name": "python3",
      "display_name": "Python 3"
    },
    "language_info": {
      "name": "python"
    }
  },
  "cells": [
    {
      "cell_type": "code",
      "execution_count": 21,
      "metadata": {
        "id": "inlLUK5dizTk"
      },
      "outputs": [],
      "source": [
        "import pandas as pd\n",
        "import uuid\n",
        "import random\n",
        "import datetime"
      ]
    },
    {
      "cell_type": "code",
      "source": [
        "num_users = 100000"
      ],
      "metadata": {
        "id": "NiyGAH0mjPwm"
      },
      "execution_count": 22,
      "outputs": []
    },
    {
      "cell_type": "code",
      "source": [
        "# A list of 5 features\n",
        "features = [\n",
        "    \"ID\",\n",
        "    \"Fecha_Déposito\",\n",
        "    \"valor\",\n",
        "    \"Banco\",\n",
        "    \"Num_Cuenta\",\n",
        "]# Creating a DF for these features\n",
        "df = pd.DataFrame(columns=features)"
      ],
      "metadata": {
        "id": "VpRmbhi2jTuW"
      },
      "execution_count": 23,
      "outputs": []
    },
    {
      "cell_type": "markdown",
      "source": [
        "**ID DE PAGO**"
      ],
      "metadata": {
        "id": "R9xR_BiPkslI"
      }
    },
    {
      "cell_type": "markdown",
      "source": [
        "Para empezar en los registros de pagos tenemos un ID, esta es esencial para el monitoreo que realiza el MIES, esta sera de tipo alfanúmerico diferenciadose de los demas identificadores. "
      ],
      "metadata": {
        "id": "JXt6zFvWkyUF"
      }
    },
    {
      "cell_type": "code",
      "source": [
        "Dominio='IDPay'                                                                           #Creamos un string para concatenarlo con la ID\n",
        "df['ID'] = [Dominio+str((random.sample(range(1,10000),1))) for i in range(num_users)]    #Asignamos al apartado de ID  el dominio inicial y concatenamos\n",
        "                                                                                         #con str el numero aleatorio que se va a generar"
      ],
      "metadata": {
        "id": "GB_0VeGWkat2"
      },
      "execution_count": 24,
      "outputs": []
    },
    {
      "cell_type": "markdown",
      "source": [
        "**FECHA DE PAGO**"
      ],
      "metadata": {
        "id": "wwdbfUwUlOn1"
      }
    },
    {
      "cell_type": "markdown",
      "source": [
        "Para la fecha de pago se la selecciono de manera aleatoria ya que la entidad del MIES que es la encargada de generar los bonos posee fechas diferentes para realizar el déposito del bono a cada respectivo beneficiario. Para generar este atributo se necesito importar la libreria  datetime que proporciona clases para manipular fechas y horas"
      ],
      "metadata": {
        "id": "7ZnPJa5vmHlG"
      }
    },
    {
      "cell_type": "code",
      "source": [
        "def randomtimes(start, end, n):\n",
        "    \"\"\"\n",
        "    Generates random time stamps based on a given amount between two time periods.\n",
        "    \"\"\"\n",
        "    # The timestamp format\n",
        "    frmt = \"%Y-%m-%d %H:%M:%S\"\n",
        "    \n",
        "    # Formatting the two time periods\n",
        "    stime = datetime.datetime.strptime(start, frmt)\n",
        "    etime = datetime.datetime.strptime(end, frmt)\n",
        "    \n",
        "    # Creating the pool for random times\n",
        "    td = etime - stime\n",
        "    \n",
        "    # Generating a list with the random times\n",
        "    times = [(random.random() * td + stime).strftime(frmt) for _ in range(n)]\n",
        "    \n",
        "    return times\n",
        "\n",
        "# Setting the start and end times\n",
        "start = \"2022-11-01 00:00:00\"\n",
        "\n",
        "end = \"2022-11-30 00:00:00\"\n",
        "\n",
        "df['Fecha_Déposito'] = randomtimes(start, end, num_users)"
      ],
      "metadata": {
        "id": "0qEBaZVFkqkt"
      },
      "execution_count": 25,
      "outputs": []
    },
    {
      "cell_type": "markdown",
      "source": [
        "**VALOR DÉPOSITADO**"
      ],
      "metadata": {
        "id": "jpm05_NrqKaV"
      }
    },
    {
      "cell_type": "markdown",
      "source": [
        "Este atributo corresponde al valor depositado por el MIES este valor esta regulado y tabulado, dependiendo del tipo del Grupo al que el beneficiario pertenece. Durante la investigación se tienen los valores fijos para cada grupo pero para el grupo de hogares pobres extremos con hijos menores de edad existen valores extra que son calculados por el número de hijos. Desafortunadamente para este proyecto no se pudo obtener el valor extra por cada hijo. Esto se debe a que para obtener este valor es necesario realizar la encuesta del Registro Social. Se ha decidido tener un valor extra de 7 dólares mas por hijo y se permiten hasta tres hijos para poder tener datos variados."
      ],
      "metadata": {
        "id": "dE-8JyBQqSS9"
      }
    },
    {
      "cell_type": "code",
      "source": [
        "# The different ratings available\n",
        "ratings = [50,57,64,71,600,100]# Weighted ratings with a skew towards the ends\n",
        "df['valor'] = random.choices(\n",
        "    ratings, \n",
        "    weights=(50,30,20,10,5,40), \n",
        "    k=num_users\n",
        ")"
      ],
      "metadata": {
        "id": "GfM33Kb8rZ73"
      },
      "execution_count": 26,
      "outputs": []
    },
    {
      "cell_type": "markdown",
      "source": [
        "**NOMBRE BANCARIA**"
      ],
      "metadata": {
        "id": "Pj_qV5YHt5tu"
      }
    },
    {
      "cell_type": "markdown",
      "source": [
        "El nombre del Banco es un atributo escencial que se necesita para el depósito mensual del bono, el beneficiario puede poseer una cuenta en cualquier entidad Bancaria esto implica que nuestra base de datos debe poseer un registro o constancia que la mayoria de bancos accesibles para la población. Para crear este atributo se escogieron algunos de los principales y reconocidos bancos.\n",
        "\n",
        "-Banco Pichincha\n",
        "\n",
        "-Produbanco\n",
        "\n",
        "-Banco Solidario\n",
        "\n",
        "-Banco Bolivariano\n",
        "\n",
        "-Banco del Pacífico\n",
        "\n",
        "-Banco de Guayaquil \n",
        "\n",
        "-Banco Rumiñahui\n",
        "\n",
        "-Banco del Austro \n",
        "\n",
        "-Banco Internacional\n",
        "\n",
        "-Banco de Loja"
      ],
      "metadata": {
        "id": "RmFMl9G2uCyv"
      }
    },
    {
      "cell_type": "code",
      "source": [
        "bancos = [\"Banco Pichincha\", \"Produbanco\", \"Banco Solidario\",\"Banco Bolivariano\",\"Banco del Pacífico\",\"Banco de Guayaquil\",\"Banco Rumiñahui\",\"Banco del Austro\",\"Banco Internacional\",\"Banco de Loja\"]"
      ],
      "metadata": {
        "id": "I-4ADsOTt4Sc"
      },
      "execution_count": 27,
      "outputs": []
    },
    {
      "cell_type": "code",
      "source": [
        "df['Banco'] = random.choices(\n",
        "    bancos, \n",
        "    weights=(30,10,10,10,10,20,10,10,12,10), \n",
        "    k=num_users\n",
        ")"
      ],
      "metadata": {
        "id": "0Uk_4tt5wbz3"
      },
      "execution_count": 30,
      "outputs": []
    },
    {
      "cell_type": "markdown",
      "source": [
        "**Número de Cuenta**"
      ],
      "metadata": {
        "id": "4pLmnbYn2cAs"
      }
    },
    {
      "cell_type": "markdown",
      "source": [
        "Generamos una serie de numeros aleatorios de 10 digítos. Al poseer un atributo con varios bancos los números de cuenta pueden varias en sus patrones."
      ],
      "metadata": {
        "id": "GERAkn7W2g8r"
      }
    },
    {
      "cell_type": "code",
      "source": [
        "df['Num_Cuenta'] = [(random.sample(range(2210000000,5670000000),1)) for i in range(num_users)]"
      ],
      "metadata": {
        "id": "MUMRxBHC2gb3"
      },
      "execution_count": 32,
      "outputs": []
    },
    {
      "cell_type": "code",
      "source": [
        "df"
      ],
      "metadata": {
        "colab": {
          "base_uri": "https://localhost:8080/",
          "height": 424
        },
        "id": "VuaOOERzoKId",
        "outputId": "524f4778-3587-4444-d0ed-87ec1dad67c1"
      },
      "execution_count": 33,
      "outputs": [
        {
          "output_type": "execute_result",
          "data": {
            "text/plain": [
              "                ID       Fecha_Déposito  valor                Banco  \\\n",
              "0      IDPay[3200]  2022-11-24 04:56:04     50      Banco Rumiñahui   \n",
              "1      IDPay[9789]  2022-11-12 17:10:20     50    Banco Bolivariano   \n",
              "2      IDPay[4827]  2022-11-06 07:00:43    100      Banco Pichincha   \n",
              "3      IDPay[1494]  2022-11-27 10:30:55     50     Banco del Austro   \n",
              "4      IDPay[5381]  2022-11-10 09:08:19    100  Banco Internacional   \n",
              "...            ...                  ...    ...                  ...   \n",
              "99995  IDPay[2489]  2022-11-11 21:27:53    100      Banco Pichincha   \n",
              "99996  IDPay[4368]  2022-11-04 03:05:42     57        Banco de Loja   \n",
              "99997  IDPay[4276]  2022-11-18 05:47:09     50      Banco Solidario   \n",
              "99998  IDPay[7595]  2022-11-25 17:54:38    100      Banco Solidario   \n",
              "99999  IDPay[4986]  2022-11-16 15:35:58     50   Banco del Pacífico   \n",
              "\n",
              "         Num_Cuenta  \n",
              "0      [4114654102]  \n",
              "1      [2401090382]  \n",
              "2      [4801589863]  \n",
              "3      [3033891951]  \n",
              "4      [4048331916]  \n",
              "...             ...  \n",
              "99995  [4187854506]  \n",
              "99996  [5156212698]  \n",
              "99997  [3304780246]  \n",
              "99998  [5618322959]  \n",
              "99999  [3629449405]  \n",
              "\n",
              "[100000 rows x 5 columns]"
            ],
            "text/html": [
              "\n",
              "  <div id=\"df-b2ddbc12-0395-48be-b51e-fd51dd17a6a7\">\n",
              "    <div class=\"colab-df-container\">\n",
              "      <div>\n",
              "<style scoped>\n",
              "    .dataframe tbody tr th:only-of-type {\n",
              "        vertical-align: middle;\n",
              "    }\n",
              "\n",
              "    .dataframe tbody tr th {\n",
              "        vertical-align: top;\n",
              "    }\n",
              "\n",
              "    .dataframe thead th {\n",
              "        text-align: right;\n",
              "    }\n",
              "</style>\n",
              "<table border=\"1\" class=\"dataframe\">\n",
              "  <thead>\n",
              "    <tr style=\"text-align: right;\">\n",
              "      <th></th>\n",
              "      <th>ID</th>\n",
              "      <th>Fecha_Déposito</th>\n",
              "      <th>valor</th>\n",
              "      <th>Banco</th>\n",
              "      <th>Num_Cuenta</th>\n",
              "    </tr>\n",
              "  </thead>\n",
              "  <tbody>\n",
              "    <tr>\n",
              "      <th>0</th>\n",
              "      <td>IDPay[3200]</td>\n",
              "      <td>2022-11-24 04:56:04</td>\n",
              "      <td>50</td>\n",
              "      <td>Banco Rumiñahui</td>\n",
              "      <td>[4114654102]</td>\n",
              "    </tr>\n",
              "    <tr>\n",
              "      <th>1</th>\n",
              "      <td>IDPay[9789]</td>\n",
              "      <td>2022-11-12 17:10:20</td>\n",
              "      <td>50</td>\n",
              "      <td>Banco Bolivariano</td>\n",
              "      <td>[2401090382]</td>\n",
              "    </tr>\n",
              "    <tr>\n",
              "      <th>2</th>\n",
              "      <td>IDPay[4827]</td>\n",
              "      <td>2022-11-06 07:00:43</td>\n",
              "      <td>100</td>\n",
              "      <td>Banco Pichincha</td>\n",
              "      <td>[4801589863]</td>\n",
              "    </tr>\n",
              "    <tr>\n",
              "      <th>3</th>\n",
              "      <td>IDPay[1494]</td>\n",
              "      <td>2022-11-27 10:30:55</td>\n",
              "      <td>50</td>\n",
              "      <td>Banco del Austro</td>\n",
              "      <td>[3033891951]</td>\n",
              "    </tr>\n",
              "    <tr>\n",
              "      <th>4</th>\n",
              "      <td>IDPay[5381]</td>\n",
              "      <td>2022-11-10 09:08:19</td>\n",
              "      <td>100</td>\n",
              "      <td>Banco Internacional</td>\n",
              "      <td>[4048331916]</td>\n",
              "    </tr>\n",
              "    <tr>\n",
              "      <th>...</th>\n",
              "      <td>...</td>\n",
              "      <td>...</td>\n",
              "      <td>...</td>\n",
              "      <td>...</td>\n",
              "      <td>...</td>\n",
              "    </tr>\n",
              "    <tr>\n",
              "      <th>99995</th>\n",
              "      <td>IDPay[2489]</td>\n",
              "      <td>2022-11-11 21:27:53</td>\n",
              "      <td>100</td>\n",
              "      <td>Banco Pichincha</td>\n",
              "      <td>[4187854506]</td>\n",
              "    </tr>\n",
              "    <tr>\n",
              "      <th>99996</th>\n",
              "      <td>IDPay[4368]</td>\n",
              "      <td>2022-11-04 03:05:42</td>\n",
              "      <td>57</td>\n",
              "      <td>Banco de Loja</td>\n",
              "      <td>[5156212698]</td>\n",
              "    </tr>\n",
              "    <tr>\n",
              "      <th>99997</th>\n",
              "      <td>IDPay[4276]</td>\n",
              "      <td>2022-11-18 05:47:09</td>\n",
              "      <td>50</td>\n",
              "      <td>Banco Solidario</td>\n",
              "      <td>[3304780246]</td>\n",
              "    </tr>\n",
              "    <tr>\n",
              "      <th>99998</th>\n",
              "      <td>IDPay[7595]</td>\n",
              "      <td>2022-11-25 17:54:38</td>\n",
              "      <td>100</td>\n",
              "      <td>Banco Solidario</td>\n",
              "      <td>[5618322959]</td>\n",
              "    </tr>\n",
              "    <tr>\n",
              "      <th>99999</th>\n",
              "      <td>IDPay[4986]</td>\n",
              "      <td>2022-11-16 15:35:58</td>\n",
              "      <td>50</td>\n",
              "      <td>Banco del Pacífico</td>\n",
              "      <td>[3629449405]</td>\n",
              "    </tr>\n",
              "  </tbody>\n",
              "</table>\n",
              "<p>100000 rows × 5 columns</p>\n",
              "</div>\n",
              "      <button class=\"colab-df-convert\" onclick=\"convertToInteractive('df-b2ddbc12-0395-48be-b51e-fd51dd17a6a7')\"\n",
              "              title=\"Convert this dataframe to an interactive table.\"\n",
              "              style=\"display:none;\">\n",
              "        \n",
              "  <svg xmlns=\"http://www.w3.org/2000/svg\" height=\"24px\"viewBox=\"0 0 24 24\"\n",
              "       width=\"24px\">\n",
              "    <path d=\"M0 0h24v24H0V0z\" fill=\"none\"/>\n",
              "    <path d=\"M18.56 5.44l.94 2.06.94-2.06 2.06-.94-2.06-.94-.94-2.06-.94 2.06-2.06.94zm-11 1L8.5 8.5l.94-2.06 2.06-.94-2.06-.94L8.5 2.5l-.94 2.06-2.06.94zm10 10l.94 2.06.94-2.06 2.06-.94-2.06-.94-.94-2.06-.94 2.06-2.06.94z\"/><path d=\"M17.41 7.96l-1.37-1.37c-.4-.4-.92-.59-1.43-.59-.52 0-1.04.2-1.43.59L10.3 9.45l-7.72 7.72c-.78.78-.78 2.05 0 2.83L4 21.41c.39.39.9.59 1.41.59.51 0 1.02-.2 1.41-.59l7.78-7.78 2.81-2.81c.8-.78.8-2.07 0-2.86zM5.41 20L4 18.59l7.72-7.72 1.47 1.35L5.41 20z\"/>\n",
              "  </svg>\n",
              "      </button>\n",
              "      \n",
              "  <style>\n",
              "    .colab-df-container {\n",
              "      display:flex;\n",
              "      flex-wrap:wrap;\n",
              "      gap: 12px;\n",
              "    }\n",
              "\n",
              "    .colab-df-convert {\n",
              "      background-color: #E8F0FE;\n",
              "      border: none;\n",
              "      border-radius: 50%;\n",
              "      cursor: pointer;\n",
              "      display: none;\n",
              "      fill: #1967D2;\n",
              "      height: 32px;\n",
              "      padding: 0 0 0 0;\n",
              "      width: 32px;\n",
              "    }\n",
              "\n",
              "    .colab-df-convert:hover {\n",
              "      background-color: #E2EBFA;\n",
              "      box-shadow: 0px 1px 2px rgba(60, 64, 67, 0.3), 0px 1px 3px 1px rgba(60, 64, 67, 0.15);\n",
              "      fill: #174EA6;\n",
              "    }\n",
              "\n",
              "    [theme=dark] .colab-df-convert {\n",
              "      background-color: #3B4455;\n",
              "      fill: #D2E3FC;\n",
              "    }\n",
              "\n",
              "    [theme=dark] .colab-df-convert:hover {\n",
              "      background-color: #434B5C;\n",
              "      box-shadow: 0px 1px 3px 1px rgba(0, 0, 0, 0.15);\n",
              "      filter: drop-shadow(0px 1px 2px rgba(0, 0, 0, 0.3));\n",
              "      fill: #FFFFFF;\n",
              "    }\n",
              "  </style>\n",
              "\n",
              "      <script>\n",
              "        const buttonEl =\n",
              "          document.querySelector('#df-b2ddbc12-0395-48be-b51e-fd51dd17a6a7 button.colab-df-convert');\n",
              "        buttonEl.style.display =\n",
              "          google.colab.kernel.accessAllowed ? 'block' : 'none';\n",
              "\n",
              "        async function convertToInteractive(key) {\n",
              "          const element = document.querySelector('#df-b2ddbc12-0395-48be-b51e-fd51dd17a6a7');\n",
              "          const dataTable =\n",
              "            await google.colab.kernel.invokeFunction('convertToInteractive',\n",
              "                                                     [key], {});\n",
              "          if (!dataTable) return;\n",
              "\n",
              "          const docLinkHtml = 'Like what you see? Visit the ' +\n",
              "            '<a target=\"_blank\" href=https://colab.research.google.com/notebooks/data_table.ipynb>data table notebook</a>'\n",
              "            + ' to learn more about interactive tables.';\n",
              "          element.innerHTML = '';\n",
              "          dataTable['output_type'] = 'display_data';\n",
              "          await google.colab.output.renderOutput(dataTable, element);\n",
              "          const docLink = document.createElement('div');\n",
              "          docLink.innerHTML = docLinkHtml;\n",
              "          element.appendChild(docLink);\n",
              "        }\n",
              "      </script>\n",
              "    </div>\n",
              "  </div>\n",
              "  "
            ]
          },
          "metadata": {},
          "execution_count": 33
        }
      ]
    }
  ]
}