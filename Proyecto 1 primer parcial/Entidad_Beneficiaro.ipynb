{
  "nbformat": 4,
  "nbformat_minor": 0,
  "metadata": {
    "colab": {
      "provenance": []
    },
    "kernelspec": {
      "name": "python3",
      "display_name": "Python 3"
    },
    "language_info": {
      "name": "python"
    }
  },
  "cells": [
    {
      "cell_type": "code",
      "execution_count": 1,
      "metadata": {
        "colab": {
          "base_uri": "https://localhost:8080/"
        },
        "id": "8-zs5ULMVTRS",
        "outputId": "595ccfdd-7398-450e-89a4-a1d9358abf3f"
      },
      "outputs": [
        {
          "output_type": "stream",
          "name": "stdout",
          "text": [
            "Looking in indexes: https://pypi.org/simple, https://us-python.pkg.dev/colab-wheels/public/simple/\n",
            "Collecting faker\n",
            "  Downloading Faker-15.3.2-py3-none-any.whl (1.6 MB)\n",
            "\u001b[K     |████████████████████████████████| 1.6 MB 5.2 MB/s \n",
            "\u001b[?25hRequirement already satisfied: typing-extensions>=3.10.0.1 in /usr/local/lib/python3.7/dist-packages (from faker) (4.1.1)\n",
            "Requirement already satisfied: python-dateutil>=2.4 in /usr/local/lib/python3.7/dist-packages (from faker) (2.8.2)\n",
            "Requirement already satisfied: six>=1.5 in /usr/local/lib/python3.7/dist-packages (from python-dateutil>=2.4->faker) (1.15.0)\n",
            "Installing collected packages: faker\n",
            "Successfully installed faker-15.3.2\n"
          ]
        }
      ],
      "source": [
        "pip install faker"
      ]
    },
    {
      "cell_type": "code",
      "source": [
        "pip install features"
      ],
      "metadata": {
        "colab": {
          "base_uri": "https://localhost:8080/"
        },
        "id": "kVHHg1GQVnBt",
        "outputId": "cf405978-9708-4d7c-f9c1-b4b2456ecc0f"
      },
      "execution_count": 3,
      "outputs": [
        {
          "output_type": "stream",
          "name": "stdout",
          "text": [
            "Looking in indexes: https://pypi.org/simple, https://us-python.pkg.dev/colab-wheels/public/simple/\n",
            "Collecting features\n",
            "  Downloading features-0.5.12-py2.py3-none-any.whl (15 kB)\n",
            "Collecting fileconfig~=0.5\n",
            "  Downloading fileconfig-0.6.1-py3-none-any.whl (8.6 kB)\n",
            "Collecting concepts~=0.7\n",
            "  Downloading concepts-0.9.2-py2.py3-none-any.whl (31 kB)\n",
            "Requirement already satisfied: graphviz~=0.7 in /usr/local/lib/python3.7/dist-packages (from features) (0.10.1)\n",
            "Collecting bitsets~=0.7\n",
            "  Downloading bitsets-0.8.4-py3-none-any.whl (13 kB)\n",
            "Installing collected packages: bitsets, fileconfig, concepts, features\n",
            "Successfully installed bitsets-0.8.4 concepts-0.9.2 features-0.5.12 fileconfig-0.6.1\n"
          ]
        }
      ]
    },
    {
      "cell_type": "code",
      "source": [
        "import pandas as pd \n",
        "import uuid  \n",
        "import random        #random para operar o generar números aleatorios\n",
        "from faker import Faker #faker para manejar cualquier informacion artificial\n",
        "import datetime      #importamos datetime permite manipular fechas y horas\n",
        "import features      #crear y seleccionar automáticamente características importantes en su conjunto de datos \n"
      ],
      "metadata": {
        "id": "JIV_3fVmVf6N"
      },
      "execution_count": 4,
      "outputs": []
    },
    {
      "cell_type": "code",
      "source": [
        "#El tamaño del conjunto de datos será de 5000 Usuarios \n",
        "num_users = 5000"
      ],
      "metadata": {
        "id": "VmxEJphOVrcG"
      },
      "execution_count": 6,
      "outputs": []
    },
    {
      "cell_type": "code",
      "source": [
        "# Una lista de 4 caracteristicas\\n\",\n",
        "\n",
        "features = [  \n",
        "    'id',\n",
        "    'gender',\n",
        "    'name',\n",
        "    'status',\n",
        "    ]\n",
        "df = pd.DataFrame(columns=features) # Creando un DF para las caracteristicas \\n\","
      ],
      "metadata": {
        "id": "xEUkcCeJV-9G"
      },
      "execution_count": 7,
      "outputs": []
    },
    {
      "cell_type": "code",
      "source": [
        "df['id'] = [(random.randrange(1700000000, 1710000000)) for i in range(num_users)] #Escogemos el atributo id y le asignamos la funcion random concatenando\n",
        "                                                        #con randrange que los genera aleatoriamente empezando desde i hasta el \n",
        "                                                        #rango del numero de usuarios"
      ],
      "metadata": {
        "id": "zYK-JBECWFwn"
      },
      "execution_count": 22,
      "outputs": []
    },
    {
      "cell_type": "code",
      "source": [
        "print(df['id'].nunique()==num_users)#Imprimir, si el ID es unico entre todo el numero de usuarios"
      ],
      "metadata": {
        "colab": {
          "base_uri": "https://localhost:8080/"
        },
        "id": "L4Lc1_MmWQGN",
        "outputId": "309a7af8-784e-40a0-8925-02374ed0380b"
      },
      "execution_count": 9,
      "outputs": [
        {
          "output_type": "stream",
          "name": "stdout",
          "text": [
            "False\n"
          ]
        }
      ]
    },
    {
      "cell_type": "markdown",
      "source": [
        "Para el género, proporcioné tres opciones: masculino, femenino y na. Sin embargo, si tuviera que usar la biblioteca aleatoria de Python, cada opción podría mostrarse igualmente en el conjunto de datos. \n",
        "En realidad, habría significativamente más opciones masculinas y femeninas que na. Así que decidí mostrar ese desequilibrio en los datos:"
      ],
      "metadata": {
        "id": "VRjDe0RpWXLf"
      }
    },
    {
      "cell_type": "code",
      "source": [
        "genders = ['male', 'female','na'] #asignamos valores a genders los cuales son 'male','female','na'"
      ],
      "metadata": {
        "id": "RievDbPKWRm9"
      },
      "execution_count": 10,
      "outputs": []
    },
    {
      "cell_type": "code",
      "source": [
        "df['gender'] = random.choices( #del atributo gender le asignamos datos aleatorios con opciones .choices\n",
        "    genders,                   #de generos \n",
        "    weights=(47,47,6),         #Porcentajes: 47% --> male 47% --> female 6% -->na\n",
        "    k=num_users,\n",
        "    )"
      ],
      "metadata": {
        "id": "xwkdcKgSWhXO"
      },
      "execution_count": 11,
      "outputs": []
    },
    {
      "cell_type": "code",
      "source": [
        "#**Subscriber**\n",
        "#Para este atributo, las opciones se pueden seleccionar aleatoriamente entre Verdadero y Falso.\n",
        "# Dado que se puede esperar razonablemente que aproximadamente la mitad de los usuarios sean suscriptores\n",
        "choice = [True, False]          #Cambiamos las opciones de verdadero a falso\n",
        "df['status'] = random.choices(  #a status le asignamos datos aletorios con las opciones\n",
        "    choice, \n",
        "    k=num_users\n",
        ")"
      ],
      "metadata": {
        "id": "CA-WWEq4Wit1"
      },
      "execution_count": 12,
      "outputs": []
    },
    {
      "cell_type": "code",
      "source": [
        "#Name\n",
        "#Aquí usé la biblioteca Faker para crear miles de nombres para todos estos usuarios. \n",
        "# La biblioteca Faker es excelente en esta situación porque tiene una opción para nombres masculinos y femeninos.\n",
        "# }} Para procesar los nombres de género, creé una función para asignar nombres en función de un género determinado.\n",
        "# Instantiating faker\n",
        "faker = Faker()\n",
        "\n",
        "def name_gen(gender):\n",
        "    \"\"\"\n",
        "    Quickly generates a name based on gender\n",
        "    \"\"\"\n",
        "    if gender=='male':\n",
        "        return faker.name_male()\n",
        "    elif gender=='female':\n",
        "        return faker.name_female()\n",
        "    return faker.name()# Generating names for each user\n",
        "    \"\"\"_summary_\n",
        "          def name_gen(gender):\n",
        "          Creamos una funcion para asignar los nombres\n",
        "          creamos una sentencia if que nos indica\n",
        "          si gender es igual a male retornamos un\n",
        "          nombre masculino, despues si gender es igual\n",
        "          a female retorna un nombre femenino caso contrario \n",
        "          retorna cualquier nombre\n",
        "          \n",
        "         Parametros: \n",
        "         --------------\n",
        "         Lista Gender -->Linea 73\"\"\""
      ],
      "metadata": {
        "id": "vG46oGaeWrlH"
      },
      "execution_count": 13,
      "outputs": []
    },
    {
      "cell_type": "code",
      "source": [
        "df['name'] = [name_gen(i) for i in df['gender']] #Asignamos a todos los datos la funcion de nombre para i en base a el genero"
      ],
      "metadata": {
        "id": "xIIy4IeeWuw9"
      },
      "execution_count": 14,
      "outputs": []
    },
    {
      "cell_type": "code",
      "source": [
        "df.to_csv('dataset_users.csv')"
      ],
      "metadata": {
        "id": "CgQXhtCYWv7F"
      },
      "execution_count": 15,
      "outputs": []
    },
    {
      "cell_type": "code",
      "source": [
        "df"
      ],
      "metadata": {
        "colab": {
          "base_uri": "https://localhost:8080/",
          "height": 424
        },
        "id": "AJtE9dwdWy8l",
        "outputId": "29213173-f701-4dc3-e701-5e0106c1c79e"
      },
      "execution_count": 17,
      "outputs": [
        {
          "output_type": "execute_result",
          "data": {
            "text/plain": [
              "              id  gender                    name  status\n",
              "0     1701622103  female     Christine Gutierrez   False\n",
              "1     1708575380    male           Kelly Vazquez   False\n",
              "2     1704107778      na          Susan Humphrey   False\n",
              "3     1708585588  female         Madeline Harris   False\n",
              "4     1706935951      na              Robert Lee   False\n",
              "...          ...     ...                     ...     ...\n",
              "4995  1700313411    male            William Hill    True\n",
              "4996  1709652247    male          Jeremy Elliott    True\n",
              "4997  1707154484  female             Susan Smith    True\n",
              "4998  1700525142  female  Mrs. Christine Parrish   False\n",
              "4999  1708880410  female                Lisa Cox    True\n",
              "\n",
              "[5000 rows x 4 columns]"
            ],
            "text/html": [
              "\n",
              "  <div id=\"df-b32d5578-2173-40d6-b958-cea5ca5569d1\">\n",
              "    <div class=\"colab-df-container\">\n",
              "      <div>\n",
              "<style scoped>\n",
              "    .dataframe tbody tr th:only-of-type {\n",
              "        vertical-align: middle;\n",
              "    }\n",
              "\n",
              "    .dataframe tbody tr th {\n",
              "        vertical-align: top;\n",
              "    }\n",
              "\n",
              "    .dataframe thead th {\n",
              "        text-align: right;\n",
              "    }\n",
              "</style>\n",
              "<table border=\"1\" class=\"dataframe\">\n",
              "  <thead>\n",
              "    <tr style=\"text-align: right;\">\n",
              "      <th></th>\n",
              "      <th>id</th>\n",
              "      <th>gender</th>\n",
              "      <th>name</th>\n",
              "      <th>status</th>\n",
              "    </tr>\n",
              "  </thead>\n",
              "  <tbody>\n",
              "    <tr>\n",
              "      <th>0</th>\n",
              "      <td>1701622103</td>\n",
              "      <td>female</td>\n",
              "      <td>Christine Gutierrez</td>\n",
              "      <td>False</td>\n",
              "    </tr>\n",
              "    <tr>\n",
              "      <th>1</th>\n",
              "      <td>1708575380</td>\n",
              "      <td>male</td>\n",
              "      <td>Kelly Vazquez</td>\n",
              "      <td>False</td>\n",
              "    </tr>\n",
              "    <tr>\n",
              "      <th>2</th>\n",
              "      <td>1704107778</td>\n",
              "      <td>na</td>\n",
              "      <td>Susan Humphrey</td>\n",
              "      <td>False</td>\n",
              "    </tr>\n",
              "    <tr>\n",
              "      <th>3</th>\n",
              "      <td>1708585588</td>\n",
              "      <td>female</td>\n",
              "      <td>Madeline Harris</td>\n",
              "      <td>False</td>\n",
              "    </tr>\n",
              "    <tr>\n",
              "      <th>4</th>\n",
              "      <td>1706935951</td>\n",
              "      <td>na</td>\n",
              "      <td>Robert Lee</td>\n",
              "      <td>False</td>\n",
              "    </tr>\n",
              "    <tr>\n",
              "      <th>...</th>\n",
              "      <td>...</td>\n",
              "      <td>...</td>\n",
              "      <td>...</td>\n",
              "      <td>...</td>\n",
              "    </tr>\n",
              "    <tr>\n",
              "      <th>4995</th>\n",
              "      <td>1700313411</td>\n",
              "      <td>male</td>\n",
              "      <td>William Hill</td>\n",
              "      <td>True</td>\n",
              "    </tr>\n",
              "    <tr>\n",
              "      <th>4996</th>\n",
              "      <td>1709652247</td>\n",
              "      <td>male</td>\n",
              "      <td>Jeremy Elliott</td>\n",
              "      <td>True</td>\n",
              "    </tr>\n",
              "    <tr>\n",
              "      <th>4997</th>\n",
              "      <td>1707154484</td>\n",
              "      <td>female</td>\n",
              "      <td>Susan Smith</td>\n",
              "      <td>True</td>\n",
              "    </tr>\n",
              "    <tr>\n",
              "      <th>4998</th>\n",
              "      <td>1700525142</td>\n",
              "      <td>female</td>\n",
              "      <td>Mrs. Christine Parrish</td>\n",
              "      <td>False</td>\n",
              "    </tr>\n",
              "    <tr>\n",
              "      <th>4999</th>\n",
              "      <td>1708880410</td>\n",
              "      <td>female</td>\n",
              "      <td>Lisa Cox</td>\n",
              "      <td>True</td>\n",
              "    </tr>\n",
              "  </tbody>\n",
              "</table>\n",
              "<p>5000 rows × 4 columns</p>\n",
              "</div>\n",
              "      <button class=\"colab-df-convert\" onclick=\"convertToInteractive('df-b32d5578-2173-40d6-b958-cea5ca5569d1')\"\n",
              "              title=\"Convert this dataframe to an interactive table.\"\n",
              "              style=\"display:none;\">\n",
              "        \n",
              "  <svg xmlns=\"http://www.w3.org/2000/svg\" height=\"24px\"viewBox=\"0 0 24 24\"\n",
              "       width=\"24px\">\n",
              "    <path d=\"M0 0h24v24H0V0z\" fill=\"none\"/>\n",
              "    <path d=\"M18.56 5.44l.94 2.06.94-2.06 2.06-.94-2.06-.94-.94-2.06-.94 2.06-2.06.94zm-11 1L8.5 8.5l.94-2.06 2.06-.94-2.06-.94L8.5 2.5l-.94 2.06-2.06.94zm10 10l.94 2.06.94-2.06 2.06-.94-2.06-.94-.94-2.06-.94 2.06-2.06.94z\"/><path d=\"M17.41 7.96l-1.37-1.37c-.4-.4-.92-.59-1.43-.59-.52 0-1.04.2-1.43.59L10.3 9.45l-7.72 7.72c-.78.78-.78 2.05 0 2.83L4 21.41c.39.39.9.59 1.41.59.51 0 1.02-.2 1.41-.59l7.78-7.78 2.81-2.81c.8-.78.8-2.07 0-2.86zM5.41 20L4 18.59l7.72-7.72 1.47 1.35L5.41 20z\"/>\n",
              "  </svg>\n",
              "      </button>\n",
              "      \n",
              "  <style>\n",
              "    .colab-df-container {\n",
              "      display:flex;\n",
              "      flex-wrap:wrap;\n",
              "      gap: 12px;\n",
              "    }\n",
              "\n",
              "    .colab-df-convert {\n",
              "      background-color: #E8F0FE;\n",
              "      border: none;\n",
              "      border-radius: 50%;\n",
              "      cursor: pointer;\n",
              "      display: none;\n",
              "      fill: #1967D2;\n",
              "      height: 32px;\n",
              "      padding: 0 0 0 0;\n",
              "      width: 32px;\n",
              "    }\n",
              "\n",
              "    .colab-df-convert:hover {\n",
              "      background-color: #E2EBFA;\n",
              "      box-shadow: 0px 1px 2px rgba(60, 64, 67, 0.3), 0px 1px 3px 1px rgba(60, 64, 67, 0.15);\n",
              "      fill: #174EA6;\n",
              "    }\n",
              "\n",
              "    [theme=dark] .colab-df-convert {\n",
              "      background-color: #3B4455;\n",
              "      fill: #D2E3FC;\n",
              "    }\n",
              "\n",
              "    [theme=dark] .colab-df-convert:hover {\n",
              "      background-color: #434B5C;\n",
              "      box-shadow: 0px 1px 3px 1px rgba(0, 0, 0, 0.15);\n",
              "      filter: drop-shadow(0px 1px 2px rgba(0, 0, 0, 0.3));\n",
              "      fill: #FFFFFF;\n",
              "    }\n",
              "  </style>\n",
              "\n",
              "      <script>\n",
              "        const buttonEl =\n",
              "          document.querySelector('#df-b32d5578-2173-40d6-b958-cea5ca5569d1 button.colab-df-convert');\n",
              "        buttonEl.style.display =\n",
              "          google.colab.kernel.accessAllowed ? 'block' : 'none';\n",
              "\n",
              "        async function convertToInteractive(key) {\n",
              "          const element = document.querySelector('#df-b32d5578-2173-40d6-b958-cea5ca5569d1');\n",
              "          const dataTable =\n",
              "            await google.colab.kernel.invokeFunction('convertToInteractive',\n",
              "                                                     [key], {});\n",
              "          if (!dataTable) return;\n",
              "\n",
              "          const docLinkHtml = 'Like what you see? Visit the ' +\n",
              "            '<a target=\"_blank\" href=https://colab.research.google.com/notebooks/data_table.ipynb>data table notebook</a>'\n",
              "            + ' to learn more about interactive tables.';\n",
              "          element.innerHTML = '';\n",
              "          dataTable['output_type'] = 'display_data';\n",
              "          await google.colab.output.renderOutput(dataTable, element);\n",
              "          const docLink = document.createElement('div');\n",
              "          docLink.innerHTML = docLinkHtml;\n",
              "          element.appendChild(docLink);\n",
              "        }\n",
              "      </script>\n",
              "    </div>\n",
              "  </div>\n",
              "  "
            ]
          },
          "metadata": {},
          "execution_count": 17
        }
      ]
    }
  ]
}