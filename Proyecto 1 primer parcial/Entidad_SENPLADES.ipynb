{
  "nbformat": 4,
  "nbformat_minor": 0,
  "metadata": {
    "colab": {
      "provenance": []
    },
    "kernelspec": {
      "name": "python3",
      "display_name": "Python 3"
    },
    "language_info": {
      "name": "python"
    }
  },
  "cells": [
    {
      "cell_type": "code",
      "source": [
        "pip install faker"
      ],
      "metadata": {
        "colab": {
          "base_uri": "https://localhost:8080/"
        },
        "id": "dPX1y6-iCzPz",
        "outputId": "2817f1d7-1304-40b5-b287-97a6e96f293b"
      },
      "execution_count": 18,
      "outputs": [
        {
          "output_type": "stream",
          "name": "stdout",
          "text": [
            "Looking in indexes: https://pypi.org/simple, https://us-python.pkg.dev/colab-wheels/public/simple/\n",
            "Requirement already satisfied: faker in /usr/local/lib/python3.7/dist-packages (15.3.2)\n",
            "Requirement already satisfied: python-dateutil>=2.4 in /usr/local/lib/python3.7/dist-packages (from faker) (2.8.2)\n",
            "Requirement already satisfied: typing-extensions>=3.10.0.1 in /usr/local/lib/python3.7/dist-packages (from faker) (4.1.1)\n",
            "Requirement already satisfied: six>=1.5 in /usr/local/lib/python3.7/dist-packages (from python-dateutil>=2.4->faker) (1.15.0)\n"
          ]
        }
      ]
    },
    {
      "cell_type": "code",
      "source": [
        "pip install features"
      ],
      "metadata": {
        "colab": {
          "base_uri": "https://localhost:8080/"
        },
        "id": "kuf9wT8uC6hg",
        "outputId": "f89dd2e4-6db4-49da-f180-0a9a58f8b155"
      },
      "execution_count": 19,
      "outputs": [
        {
          "output_type": "stream",
          "name": "stdout",
          "text": [
            "Looking in indexes: https://pypi.org/simple, https://us-python.pkg.dev/colab-wheels/public/simple/\n",
            "Requirement already satisfied: features in /usr/local/lib/python3.7/dist-packages (0.5.12)\n",
            "Requirement already satisfied: concepts~=0.7 in /usr/local/lib/python3.7/dist-packages (from features) (0.9.2)\n",
            "Requirement already satisfied: fileconfig~=0.5 in /usr/local/lib/python3.7/dist-packages (from features) (0.6.1)\n",
            "Requirement already satisfied: graphviz~=0.7 in /usr/local/lib/python3.7/dist-packages (from features) (0.10.1)\n",
            "Requirement already satisfied: bitsets~=0.7 in /usr/local/lib/python3.7/dist-packages (from concepts~=0.7->features) (0.8.4)\n"
          ]
        }
      ]
    },
    {
      "cell_type": "code",
      "execution_count": 20,
      "metadata": {
        "id": "-syX3IJ_CmiN"
      },
      "outputs": [],
      "source": [
        "import pandas as pd \n",
        "import uuid  \n",
        "import random        #random para operar o generar números aleatorios\n",
        "from faker import Faker #faker para manejar cualquier informacion artificial\n",
        "import datetime      #importamos datetime permite manipular fechas y horas\n",
        "import features      #crear y seleccionar automáticamente características importantes en su conjunto de datos \n"
      ]
    },
    {
      "cell_type": "code",
      "source": [
        "#El tamaño del conjunto de datos será de 5000 Usuarios \n",
        "num_users = 5000"
      ],
      "metadata": {
        "id": "J4nLEXL3GpC4"
      },
      "execution_count": 21,
      "outputs": []
    },
    {
      "cell_type": "code",
      "source": [
        "# A list of 5 features\n",
        "features = [\n",
        "    \"id\",\n",
        "    \"encuesta\",\n",
        "    \"status_registro\",\n",
        "    \"puntaje\"\n",
        "]# Creating a DF for these features\n",
        "df = pd.DataFrame(columns=features)"
      ],
      "metadata": {
        "id": "WO5UFxa0DK1Q"
      },
      "execution_count": 22,
      "outputs": []
    },
    {
      "cell_type": "code",
      "source": [
        "df['id'] = [uuid.uuid4().hex for i in range(num_users)]"
      ],
      "metadata": {
        "id": "aI74rgaNG0vL"
      },
      "execution_count": 23,
      "outputs": []
    },
    {
      "cell_type": "code",
      "source": [
        "print(df['id'].nunique()==num_users)"
      ],
      "metadata": {
        "colab": {
          "base_uri": "https://localhost:8080/"
        },
        "id": "5ZB_ASIiG3MY",
        "outputId": "3666bf41-e426-4bf7-9333-c79d85c17379"
      },
      "execution_count": 24,
      "outputs": [
        {
          "output_type": "stream",
          "name": "stdout",
          "text": [
            "True\n"
          ]
        }
      ]
    },
    {
      "cell_type": "code",
      "source": [
        "estadoencuesta = [\"realizada\", \"no_realizada\"]"
      ],
      "metadata": {
        "id": "Ty6QGrIWG804"
      },
      "execution_count": 25,
      "outputs": []
    },
    {
      "cell_type": "code",
      "source": [
        "df['encuesta'] = random.choices(\n",
        "    estadoencuesta, \n",
        "    weights=(60,40), \n",
        "    k=num_users\n",
        ")"
      ],
      "metadata": {
        "id": "tycfYTePHUhA"
      },
      "execution_count": 26,
      "outputs": []
    },
    {
      "cell_type": "markdown",
      "source": [
        "Vamos con el estatus del Registro\n",
        "Activo/Inactivo"
      ],
      "metadata": {
        "id": "h4ECxqqFOYbc"
      }
    },
    {
      "cell_type": "code",
      "source": [
        "choice = [True, False]\n",
        "df['status_registro'] = random.choices(\n",
        "    choice, \n",
        "    k=num_users\n",
        ")"
      ],
      "metadata": {
        "id": "_mTmzm5wOVLS"
      },
      "execution_count": 27,
      "outputs": []
    },
    {
      "cell_type": "markdown",
      "source": [
        "Puntaje\n",
        "Estblecemos un rango de puntaje que se usara para dar el fondo monetario"
      ],
      "metadata": {
        "id": "07yx2hkrO8Xh"
      }
    },
    {
      "cell_type": "code",
      "source": [
        "# The different ratings available\n",
        "ratings = [10,20,30,40,50]# Weighted ratings with a skew towards the ends\n",
        "df['puntaje'] = random.choices(\n",
        "    ratings, \n",
        "    weights=(30,10,10,10,30), \n",
        "    k=num_users\n",
        ")"
      ],
      "metadata": {
        "id": "sOPdSC0mO8CD"
      },
      "execution_count": 28,
      "outputs": []
    },
    {
      "cell_type": "code",
      "source": [
        "df.to_csv('dataset_users.csv')"
      ],
      "metadata": {
        "id": "JaRzYC-uSDO6"
      },
      "execution_count": 29,
      "outputs": []
    },
    {
      "cell_type": "code",
      "source": [
        "df"
      ],
      "metadata": {
        "colab": {
          "base_uri": "https://localhost:8080/",
          "height": 424
        },
        "id": "zxvgHY7jSEHC",
        "outputId": "bdb8f137-fa48-43c3-8364-1d704bec36d1"
      },
      "execution_count": 30,
      "outputs": [
        {
          "output_type": "execute_result",
          "data": {
            "text/plain": [
              "                                    id      encuesta  status_registro  puntaje\n",
              "0     73bbfc0c198d4e88897e3b8c2d5a8529     realizada             True       30\n",
              "1     26b313e350a8463f96bad8dad5c7b4d0  no_realizada            False       50\n",
              "2     50cb1c86b42e48829bbbdc3d3ce22dbe     realizada             True       50\n",
              "3     f5a52008b8df4e7e9d175d7acb350f88  no_realizada            False       20\n",
              "4     5a1cab3f6bea46f496c5f50c3267a658  no_realizada             True       10\n",
              "...                                ...           ...              ...      ...\n",
              "4995  a8d55fa917824a5bbf67efdf7001b153     realizada             True       50\n",
              "4996  db3ac43fdf1b4c6c9ea87f82562e24f9  no_realizada             True       30\n",
              "4997  41776d3a0fc8442e8cf47628db13ac02  no_realizada            False       10\n",
              "4998  04e7f26664214d2696514d9971b8c66d  no_realizada             True       10\n",
              "4999  31deb171ecb04eae82d2c39fe4eb2d4c     realizada             True       20\n",
              "\n",
              "[5000 rows x 4 columns]"
            ],
            "text/html": [
              "\n",
              "  <div id=\"df-5ea5c646-3beb-4e34-9311-b309dcc38a46\">\n",
              "    <div class=\"colab-df-container\">\n",
              "      <div>\n",
              "<style scoped>\n",
              "    .dataframe tbody tr th:only-of-type {\n",
              "        vertical-align: middle;\n",
              "    }\n",
              "\n",
              "    .dataframe tbody tr th {\n",
              "        vertical-align: top;\n",
              "    }\n",
              "\n",
              "    .dataframe thead th {\n",
              "        text-align: right;\n",
              "    }\n",
              "</style>\n",
              "<table border=\"1\" class=\"dataframe\">\n",
              "  <thead>\n",
              "    <tr style=\"text-align: right;\">\n",
              "      <th></th>\n",
              "      <th>id</th>\n",
              "      <th>encuesta</th>\n",
              "      <th>status_registro</th>\n",
              "      <th>puntaje</th>\n",
              "    </tr>\n",
              "  </thead>\n",
              "  <tbody>\n",
              "    <tr>\n",
              "      <th>0</th>\n",
              "      <td>73bbfc0c198d4e88897e3b8c2d5a8529</td>\n",
              "      <td>realizada</td>\n",
              "      <td>True</td>\n",
              "      <td>30</td>\n",
              "    </tr>\n",
              "    <tr>\n",
              "      <th>1</th>\n",
              "      <td>26b313e350a8463f96bad8dad5c7b4d0</td>\n",
              "      <td>no_realizada</td>\n",
              "      <td>False</td>\n",
              "      <td>50</td>\n",
              "    </tr>\n",
              "    <tr>\n",
              "      <th>2</th>\n",
              "      <td>50cb1c86b42e48829bbbdc3d3ce22dbe</td>\n",
              "      <td>realizada</td>\n",
              "      <td>True</td>\n",
              "      <td>50</td>\n",
              "    </tr>\n",
              "    <tr>\n",
              "      <th>3</th>\n",
              "      <td>f5a52008b8df4e7e9d175d7acb350f88</td>\n",
              "      <td>no_realizada</td>\n",
              "      <td>False</td>\n",
              "      <td>20</td>\n",
              "    </tr>\n",
              "    <tr>\n",
              "      <th>4</th>\n",
              "      <td>5a1cab3f6bea46f496c5f50c3267a658</td>\n",
              "      <td>no_realizada</td>\n",
              "      <td>True</td>\n",
              "      <td>10</td>\n",
              "    </tr>\n",
              "    <tr>\n",
              "      <th>...</th>\n",
              "      <td>...</td>\n",
              "      <td>...</td>\n",
              "      <td>...</td>\n",
              "      <td>...</td>\n",
              "    </tr>\n",
              "    <tr>\n",
              "      <th>4995</th>\n",
              "      <td>a8d55fa917824a5bbf67efdf7001b153</td>\n",
              "      <td>realizada</td>\n",
              "      <td>True</td>\n",
              "      <td>50</td>\n",
              "    </tr>\n",
              "    <tr>\n",
              "      <th>4996</th>\n",
              "      <td>db3ac43fdf1b4c6c9ea87f82562e24f9</td>\n",
              "      <td>no_realizada</td>\n",
              "      <td>True</td>\n",
              "      <td>30</td>\n",
              "    </tr>\n",
              "    <tr>\n",
              "      <th>4997</th>\n",
              "      <td>41776d3a0fc8442e8cf47628db13ac02</td>\n",
              "      <td>no_realizada</td>\n",
              "      <td>False</td>\n",
              "      <td>10</td>\n",
              "    </tr>\n",
              "    <tr>\n",
              "      <th>4998</th>\n",
              "      <td>04e7f26664214d2696514d9971b8c66d</td>\n",
              "      <td>no_realizada</td>\n",
              "      <td>True</td>\n",
              "      <td>10</td>\n",
              "    </tr>\n",
              "    <tr>\n",
              "      <th>4999</th>\n",
              "      <td>31deb171ecb04eae82d2c39fe4eb2d4c</td>\n",
              "      <td>realizada</td>\n",
              "      <td>True</td>\n",
              "      <td>20</td>\n",
              "    </tr>\n",
              "  </tbody>\n",
              "</table>\n",
              "<p>5000 rows × 4 columns</p>\n",
              "</div>\n",
              "      <button class=\"colab-df-convert\" onclick=\"convertToInteractive('df-5ea5c646-3beb-4e34-9311-b309dcc38a46')\"\n",
              "              title=\"Convert this dataframe to an interactive table.\"\n",
              "              style=\"display:none;\">\n",
              "        \n",
              "  <svg xmlns=\"http://www.w3.org/2000/svg\" height=\"24px\"viewBox=\"0 0 24 24\"\n",
              "       width=\"24px\">\n",
              "    <path d=\"M0 0h24v24H0V0z\" fill=\"none\"/>\n",
              "    <path d=\"M18.56 5.44l.94 2.06.94-2.06 2.06-.94-2.06-.94-.94-2.06-.94 2.06-2.06.94zm-11 1L8.5 8.5l.94-2.06 2.06-.94-2.06-.94L8.5 2.5l-.94 2.06-2.06.94zm10 10l.94 2.06.94-2.06 2.06-.94-2.06-.94-.94-2.06-.94 2.06-2.06.94z\"/><path d=\"M17.41 7.96l-1.37-1.37c-.4-.4-.92-.59-1.43-.59-.52 0-1.04.2-1.43.59L10.3 9.45l-7.72 7.72c-.78.78-.78 2.05 0 2.83L4 21.41c.39.39.9.59 1.41.59.51 0 1.02-.2 1.41-.59l7.78-7.78 2.81-2.81c.8-.78.8-2.07 0-2.86zM5.41 20L4 18.59l7.72-7.72 1.47 1.35L5.41 20z\"/>\n",
              "  </svg>\n",
              "      </button>\n",
              "      \n",
              "  <style>\n",
              "    .colab-df-container {\n",
              "      display:flex;\n",
              "      flex-wrap:wrap;\n",
              "      gap: 12px;\n",
              "    }\n",
              "\n",
              "    .colab-df-convert {\n",
              "      background-color: #E8F0FE;\n",
              "      border: none;\n",
              "      border-radius: 50%;\n",
              "      cursor: pointer;\n",
              "      display: none;\n",
              "      fill: #1967D2;\n",
              "      height: 32px;\n",
              "      padding: 0 0 0 0;\n",
              "      width: 32px;\n",
              "    }\n",
              "\n",
              "    .colab-df-convert:hover {\n",
              "      background-color: #E2EBFA;\n",
              "      box-shadow: 0px 1px 2px rgba(60, 64, 67, 0.3), 0px 1px 3px 1px rgba(60, 64, 67, 0.15);\n",
              "      fill: #174EA6;\n",
              "    }\n",
              "\n",
              "    [theme=dark] .colab-df-convert {\n",
              "      background-color: #3B4455;\n",
              "      fill: #D2E3FC;\n",
              "    }\n",
              "\n",
              "    [theme=dark] .colab-df-convert:hover {\n",
              "      background-color: #434B5C;\n",
              "      box-shadow: 0px 1px 3px 1px rgba(0, 0, 0, 0.15);\n",
              "      filter: drop-shadow(0px 1px 2px rgba(0, 0, 0, 0.3));\n",
              "      fill: #FFFFFF;\n",
              "    }\n",
              "  </style>\n",
              "\n",
              "      <script>\n",
              "        const buttonEl =\n",
              "          document.querySelector('#df-5ea5c646-3beb-4e34-9311-b309dcc38a46 button.colab-df-convert');\n",
              "        buttonEl.style.display =\n",
              "          google.colab.kernel.accessAllowed ? 'block' : 'none';\n",
              "\n",
              "        async function convertToInteractive(key) {\n",
              "          const element = document.querySelector('#df-5ea5c646-3beb-4e34-9311-b309dcc38a46');\n",
              "          const dataTable =\n",
              "            await google.colab.kernel.invokeFunction('convertToInteractive',\n",
              "                                                     [key], {});\n",
              "          if (!dataTable) return;\n",
              "\n",
              "          const docLinkHtml = 'Like what you see? Visit the ' +\n",
              "            '<a target=\"_blank\" href=https://colab.research.google.com/notebooks/data_table.ipynb>data table notebook</a>'\n",
              "            + ' to learn more about interactive tables.';\n",
              "          element.innerHTML = '';\n",
              "          dataTable['output_type'] = 'display_data';\n",
              "          await google.colab.output.renderOutput(dataTable, element);\n",
              "          const docLink = document.createElement('div');\n",
              "          docLink.innerHTML = docLinkHtml;\n",
              "          element.appendChild(docLink);\n",
              "        }\n",
              "      </script>\n",
              "    </div>\n",
              "  </div>\n",
              "  "
            ]
          },
          "metadata": {},
          "execution_count": 30
        }
      ]
    }
  ]
}