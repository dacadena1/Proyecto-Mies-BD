{
  "nbformat": 4,
  "nbformat_minor": 0,
  "metadata": {
    "colab": {
      "provenance": []
    },
    "kernelspec": {
      "name": "python3",
      "display_name": "Python 3"
    },
    "language_info": {
      "name": "python"
    }
  },
  "cells": [
    {
      "cell_type": "code",
      "execution_count": 150,
      "metadata": {
        "colab": {
          "base_uri": "https://localhost:8080/"
        },
        "id": "Jq8fgvmPVMF1",
        "outputId": "13dcd718-b3d3-4f73-cea9-68cf96faf695"
      },
      "outputs": [
        {
          "output_type": "stream",
          "name": "stdout",
          "text": [
            "Looking in indexes: https://pypi.org/simple, https://us-python.pkg.dev/colab-wheels/public/simple/\n",
            "Requirement already satisfied: faker in /usr/local/lib/python3.8/dist-packages (15.3.4)\n",
            "Requirement already satisfied: python-dateutil>=2.4 in /usr/local/lib/python3.8/dist-packages (from faker) (2.8.2)\n",
            "Requirement already satisfied: six>=1.5 in /usr/local/lib/python3.8/dist-packages (from python-dateutil>=2.4->faker) (1.15.0)\n"
          ]
        }
      ],
      "source": [
        "pip install faker"
      ]
    },
    {
      "cell_type": "code",
      "source": [
        "pip install features"
      ],
      "metadata": {
        "colab": {
          "base_uri": "https://localhost:8080/"
        },
        "id": "jhOotbnRVeAD",
        "outputId": "299a9201-1788-4f2f-e34a-1d915eed1823"
      },
      "execution_count": 151,
      "outputs": [
        {
          "output_type": "stream",
          "name": "stdout",
          "text": [
            "Looking in indexes: https://pypi.org/simple, https://us-python.pkg.dev/colab-wheels/public/simple/\n",
            "Requirement already satisfied: features in /usr/local/lib/python3.8/dist-packages (0.5.12)\n",
            "Requirement already satisfied: fileconfig~=0.5 in /usr/local/lib/python3.8/dist-packages (from features) (0.6.1)\n",
            "Requirement already satisfied: graphviz~=0.7 in /usr/local/lib/python3.8/dist-packages (from features) (0.10.1)\n",
            "Requirement already satisfied: concepts~=0.7 in /usr/local/lib/python3.8/dist-packages (from features) (0.9.2)\n",
            "Requirement already satisfied: bitsets~=0.7 in /usr/local/lib/python3.8/dist-packages (from concepts~=0.7->features) (0.8.4)\n"
          ]
        }
      ]
    },
    {
      "cell_type": "code",
      "source": [
        "import pandas as pd \n",
        "import uuid  \n",
        "import random        #random para operar o generar números aleatorios\n",
        "from faker import Faker #faker para manejar cualquier informacion artificial\n",
        "import datetime      #importamos datetime permite manipular fechas y horas\n",
        "import features      #crear y seleccionar automáticamente características importantes en su conjunto de datos "
      ],
      "metadata": {
        "id": "CNtHwO3hVhJM"
      },
      "execution_count": 152,
      "outputs": []
    },
    {
      "cell_type": "code",
      "source": [
        "#El tamaño del conjunto de datos será de 5000 Usuarios \n",
        "num_users = 10000"
      ],
      "metadata": {
        "id": "dTmz6mh8Vjri"
      },
      "execution_count": 153,
      "outputs": []
    },
    {
      "cell_type": "code",
      "source": [
        "# A list of 5 features\n",
        "features = [\n",
        "    \"IDBono\",\n",
        "    \"Bono\",\n",
        "    \"TipoPoblación\",\n",
        "    \"Valor\",\n",
        "    \"Status\"\n",
        "]# Creating a DF for these features\n",
        "df = pd.DataFrame(columns=features)"
      ],
      "metadata": {
        "id": "4ubkj-DyVmHd"
      },
      "execution_count": 154,
      "outputs": []
    },
    {
      "cell_type": "markdown",
      "source": [
        "**ID DE BONO**"
      ],
      "metadata": {
        "id": "EhGW2lDnqZp9"
      }
    },
    {
      "cell_type": "code",
      "source": [
        "Dominio='IDBon'                                                                           #Creamos un string para concatenarlo con la ID\n",
        "df['IDBono'] = [Dominio+str((random.sample(range(1,10000),1))) for i in range(num_users)]    #Asignamos al apartado de ID  el dominio inicial y concatenamos\n",
        "                                                                                         #con str el numero aleatorio que se va a generar"
      ],
      "metadata": {
        "id": "AW5bjT3dqcgV"
      },
      "execution_count": 155,
      "outputs": []
    },
    {
      "cell_type": "markdown",
      "source": [
        "Creamos los datos para el tipo o nombre de Bono"
      ],
      "metadata": {
        "id": "vt5lWCoBWv2e"
      }
    },
    {
      "cell_type": "code",
      "source": [
        "tipobono = [\"Bono Desarollo Humano\", \"Bono Desarollo Humano Variable\",\"Crédito Desarollo Humano\",\"Pensión Adulto Mayor\",\"Adulto Mayor Pobreza Extrema\",\"Personas Discapacitadas\"]\n",
        "#Creamos una cadena con los nombres de los tipos de bono"
      ],
      "metadata": {
        "id": "LpARprSZV_Mr"
      },
      "execution_count": 156,
      "outputs": []
    },
    {
      "cell_type": "code",
      "source": [
        "df['Bono'] = random.choices(\n",
        "    tipobono,                       #Asignamos al atributo bono las opciones\n",
        "    weights=(16,16,16,16,16,16),    #Asignamos los pesos que se consideren correctos         \n",
        "    k=num_users\n",
        ")"
      ],
      "metadata": {
        "id": "xDuPe29jWfdc"
      },
      "execution_count": 157,
      "outputs": []
    },
    {
      "cell_type": "markdown",
      "source": [
        "**VALOR**"
      ],
      "metadata": {
        "id": "86CsOW0T1Gdu"
      }
    },
    {
      "cell_type": "markdown",
      "source": [
        "Beneficio este atributo posee la cantidad que se le asigna al beneficiario"
      ],
      "metadata": {
        "id": "WRP7RXz2XTss"
      }
    },
    {
      "cell_type": "code",
      "source": [
        "# The different ratings available\n",
        "ratings = [50,57,64,71,100,600]# Weighted ratings with a skew towards the ends\n",
        "BDHV=[57,64,71]\n",
        "\n",
        "\n",
        "def values(tipobono):\n",
        "    \"\"\"\n",
        "    Quickly generates a name based on gender\n",
        "    \"\"\"\n",
        "    if tipobono=='Bono Desarollo Humano':\n",
        "        return ratings[0]\n",
        "    elif tipobono=='Bono Desarollo Humano Variable':\n",
        "        return ratings[2]\n",
        "    elif tipobono=='Crédito Desarollo Humano':\n",
        "        return ratings[5]  \n",
        "             \n",
        "    \n",
        "    return ratings[4]# Generating names for each user\n",
        "df['Valor'] = [values(i) for i in df['Bono']]"
      ],
      "metadata": {
        "id": "qd5LiABmW2wL"
      },
      "execution_count": 158,
      "outputs": []
    },
    {
      "cell_type": "markdown",
      "source": [
        "La condiconalidad es el fin con el que se debe usar ese dinero"
      ],
      "metadata": {
        "id": "Fh-UTb3EYHi2"
      }
    },
    {
      "cell_type": "code",
      "source": [
        "st = [\"Activo\", \"Inactivo\"]"
      ],
      "metadata": {
        "id": "cL0A_yGZYLzg"
      },
      "execution_count": 159,
      "outputs": []
    },
    {
      "cell_type": "code",
      "source": [
        "df['Status'] = random.choices(\n",
        "    st, \n",
        "    weights=(50,20), \n",
        "    k=num_users\n",
        ")"
      ],
      "metadata": {
        "id": "vIrYk6dpYfws"
      },
      "execution_count": 160,
      "outputs": []
    },
    {
      "cell_type": "markdown",
      "source": [
        "**TIPO POBLACIÓN**"
      ],
      "metadata": {
        "id": "WxTzTYqlwUO0"
      }
    },
    {
      "cell_type": "code",
      "source": [
        "poblacion=[\"Hogar vulnerable\",\"Hogar pobre con hijos menores de edad\",\"Usuario con BDH/Emprendedor\",\"Adulto Mayor a 65 años\",\"Adultos en Pobreza Extrema, mayor a 65 años, enfermos\",\"Personas Discapacidad Severa\"]\n",
        "def name_gen(tipobono):\n",
        "    \"\"\"\n",
        "    Quickly generates a name based on gender\n",
        "    \"\"\"\n",
        "    if tipobono=='Bono Desarollo Humano':\n",
        "        return poblacion[0]\n",
        "    elif tipobono=='Bono Desarollo Humano Variable':\n",
        "        return poblacion[1]\n",
        "    elif tipobono=='Crédito Desarollo Humano':\n",
        "        return poblacion[2]  \n",
        "    elif tipobono=='Pensión Adulto Mayor':\n",
        "        return poblacion[3]\n",
        "    elif tipobono=='Adulto Mayor Pobreza Extrema':\n",
        "        return poblacion[4]               \n",
        "    \n",
        "    return poblacion[5]# Generating names for each user\n",
        "df['TipoPoblación'] = [name_gen(i) for i in df['Bono']]"
      ],
      "metadata": {
        "id": "rP67YC2Ewkj9"
      },
      "execution_count": 161,
      "outputs": []
    },
    {
      "cell_type": "code",
      "source": [
        "df"
      ],
      "metadata": {
        "colab": {
          "base_uri": "https://localhost:8080/",
          "height": 424
        },
        "id": "K3aGRl0sY9hT",
        "outputId": "4e9a0e44-abdd-40da-cd45-b828e2ad2afa"
      },
      "execution_count": 162,
      "outputs": [
        {
          "output_type": "execute_result",
          "data": {
            "text/plain": [
              "           IDBono                            Bono  \\\n",
              "0      IDBon[822]  Bono Desarollo Humano Variable   \n",
              "1     IDBon[7684]         Personas Discapacitadas   \n",
              "2     IDBon[4060]            Pensión Adulto Mayor   \n",
              "3     IDBon[2948]            Pensión Adulto Mayor   \n",
              "4     IDBon[8539]            Pensión Adulto Mayor   \n",
              "...           ...                             ...   \n",
              "9995  IDBon[6726]    Adulto Mayor Pobreza Extrema   \n",
              "9996  IDBon[5253]         Personas Discapacitadas   \n",
              "9997  IDBon[7395]        Crédito Desarollo Humano   \n",
              "9998  IDBon[9078]            Pensión Adulto Mayor   \n",
              "9999  IDBon[3352]            Pensión Adulto Mayor   \n",
              "\n",
              "                                          TipoPoblación  Valor    Status  \n",
              "0                 Hogar pobre con hijos menores de edad     64    Activo  \n",
              "1                          Personas Discapacidad Severa    100  Inactivo  \n",
              "2                                Adulto Mayor a 65 años    100    Activo  \n",
              "3                                Adulto Mayor a 65 años    100    Activo  \n",
              "4                                Adulto Mayor a 65 años    100    Activo  \n",
              "...                                                 ...    ...       ...  \n",
              "9995  Adultos en Pobreza Extrema, mayor a 65 años, e...    100    Activo  \n",
              "9996                       Personas Discapacidad Severa    100    Activo  \n",
              "9997                        Usuario con BDH/Emprendedor    600    Activo  \n",
              "9998                             Adulto Mayor a 65 años    100    Activo  \n",
              "9999                             Adulto Mayor a 65 años    100    Activo  \n",
              "\n",
              "[10000 rows x 5 columns]"
            ],
            "text/html": [
              "\n",
              "  <div id=\"df-71f98fe0-584a-415d-8bbd-63e060e2471f\">\n",
              "    <div class=\"colab-df-container\">\n",
              "      <div>\n",
              "<style scoped>\n",
              "    .dataframe tbody tr th:only-of-type {\n",
              "        vertical-align: middle;\n",
              "    }\n",
              "\n",
              "    .dataframe tbody tr th {\n",
              "        vertical-align: top;\n",
              "    }\n",
              "\n",
              "    .dataframe thead th {\n",
              "        text-align: right;\n",
              "    }\n",
              "</style>\n",
              "<table border=\"1\" class=\"dataframe\">\n",
              "  <thead>\n",
              "    <tr style=\"text-align: right;\">\n",
              "      <th></th>\n",
              "      <th>IDBono</th>\n",
              "      <th>Bono</th>\n",
              "      <th>TipoPoblación</th>\n",
              "      <th>Valor</th>\n",
              "      <th>Status</th>\n",
              "    </tr>\n",
              "  </thead>\n",
              "  <tbody>\n",
              "    <tr>\n",
              "      <th>0</th>\n",
              "      <td>IDBon[822]</td>\n",
              "      <td>Bono Desarollo Humano Variable</td>\n",
              "      <td>Hogar pobre con hijos menores de edad</td>\n",
              "      <td>64</td>\n",
              "      <td>Activo</td>\n",
              "    </tr>\n",
              "    <tr>\n",
              "      <th>1</th>\n",
              "      <td>IDBon[7684]</td>\n",
              "      <td>Personas Discapacitadas</td>\n",
              "      <td>Personas Discapacidad Severa</td>\n",
              "      <td>100</td>\n",
              "      <td>Inactivo</td>\n",
              "    </tr>\n",
              "    <tr>\n",
              "      <th>2</th>\n",
              "      <td>IDBon[4060]</td>\n",
              "      <td>Pensión Adulto Mayor</td>\n",
              "      <td>Adulto Mayor a 65 años</td>\n",
              "      <td>100</td>\n",
              "      <td>Activo</td>\n",
              "    </tr>\n",
              "    <tr>\n",
              "      <th>3</th>\n",
              "      <td>IDBon[2948]</td>\n",
              "      <td>Pensión Adulto Mayor</td>\n",
              "      <td>Adulto Mayor a 65 años</td>\n",
              "      <td>100</td>\n",
              "      <td>Activo</td>\n",
              "    </tr>\n",
              "    <tr>\n",
              "      <th>4</th>\n",
              "      <td>IDBon[8539]</td>\n",
              "      <td>Pensión Adulto Mayor</td>\n",
              "      <td>Adulto Mayor a 65 años</td>\n",
              "      <td>100</td>\n",
              "      <td>Activo</td>\n",
              "    </tr>\n",
              "    <tr>\n",
              "      <th>...</th>\n",
              "      <td>...</td>\n",
              "      <td>...</td>\n",
              "      <td>...</td>\n",
              "      <td>...</td>\n",
              "      <td>...</td>\n",
              "    </tr>\n",
              "    <tr>\n",
              "      <th>9995</th>\n",
              "      <td>IDBon[6726]</td>\n",
              "      <td>Adulto Mayor Pobreza Extrema</td>\n",
              "      <td>Adultos en Pobreza Extrema, mayor a 65 años, e...</td>\n",
              "      <td>100</td>\n",
              "      <td>Activo</td>\n",
              "    </tr>\n",
              "    <tr>\n",
              "      <th>9996</th>\n",
              "      <td>IDBon[5253]</td>\n",
              "      <td>Personas Discapacitadas</td>\n",
              "      <td>Personas Discapacidad Severa</td>\n",
              "      <td>100</td>\n",
              "      <td>Activo</td>\n",
              "    </tr>\n",
              "    <tr>\n",
              "      <th>9997</th>\n",
              "      <td>IDBon[7395]</td>\n",
              "      <td>Crédito Desarollo Humano</td>\n",
              "      <td>Usuario con BDH/Emprendedor</td>\n",
              "      <td>600</td>\n",
              "      <td>Activo</td>\n",
              "    </tr>\n",
              "    <tr>\n",
              "      <th>9998</th>\n",
              "      <td>IDBon[9078]</td>\n",
              "      <td>Pensión Adulto Mayor</td>\n",
              "      <td>Adulto Mayor a 65 años</td>\n",
              "      <td>100</td>\n",
              "      <td>Activo</td>\n",
              "    </tr>\n",
              "    <tr>\n",
              "      <th>9999</th>\n",
              "      <td>IDBon[3352]</td>\n",
              "      <td>Pensión Adulto Mayor</td>\n",
              "      <td>Adulto Mayor a 65 años</td>\n",
              "      <td>100</td>\n",
              "      <td>Activo</td>\n",
              "    </tr>\n",
              "  </tbody>\n",
              "</table>\n",
              "<p>10000 rows × 5 columns</p>\n",
              "</div>\n",
              "      <button class=\"colab-df-convert\" onclick=\"convertToInteractive('df-71f98fe0-584a-415d-8bbd-63e060e2471f')\"\n",
              "              title=\"Convert this dataframe to an interactive table.\"\n",
              "              style=\"display:none;\">\n",
              "        \n",
              "  <svg xmlns=\"http://www.w3.org/2000/svg\" height=\"24px\"viewBox=\"0 0 24 24\"\n",
              "       width=\"24px\">\n",
              "    <path d=\"M0 0h24v24H0V0z\" fill=\"none\"/>\n",
              "    <path d=\"M18.56 5.44l.94 2.06.94-2.06 2.06-.94-2.06-.94-.94-2.06-.94 2.06-2.06.94zm-11 1L8.5 8.5l.94-2.06 2.06-.94-2.06-.94L8.5 2.5l-.94 2.06-2.06.94zm10 10l.94 2.06.94-2.06 2.06-.94-2.06-.94-.94-2.06-.94 2.06-2.06.94z\"/><path d=\"M17.41 7.96l-1.37-1.37c-.4-.4-.92-.59-1.43-.59-.52 0-1.04.2-1.43.59L10.3 9.45l-7.72 7.72c-.78.78-.78 2.05 0 2.83L4 21.41c.39.39.9.59 1.41.59.51 0 1.02-.2 1.41-.59l7.78-7.78 2.81-2.81c.8-.78.8-2.07 0-2.86zM5.41 20L4 18.59l7.72-7.72 1.47 1.35L5.41 20z\"/>\n",
              "  </svg>\n",
              "      </button>\n",
              "      \n",
              "  <style>\n",
              "    .colab-df-container {\n",
              "      display:flex;\n",
              "      flex-wrap:wrap;\n",
              "      gap: 12px;\n",
              "    }\n",
              "\n",
              "    .colab-df-convert {\n",
              "      background-color: #E8F0FE;\n",
              "      border: none;\n",
              "      border-radius: 50%;\n",
              "      cursor: pointer;\n",
              "      display: none;\n",
              "      fill: #1967D2;\n",
              "      height: 32px;\n",
              "      padding: 0 0 0 0;\n",
              "      width: 32px;\n",
              "    }\n",
              "\n",
              "    .colab-df-convert:hover {\n",
              "      background-color: #E2EBFA;\n",
              "      box-shadow: 0px 1px 2px rgba(60, 64, 67, 0.3), 0px 1px 3px 1px rgba(60, 64, 67, 0.15);\n",
              "      fill: #174EA6;\n",
              "    }\n",
              "\n",
              "    [theme=dark] .colab-df-convert {\n",
              "      background-color: #3B4455;\n",
              "      fill: #D2E3FC;\n",
              "    }\n",
              "\n",
              "    [theme=dark] .colab-df-convert:hover {\n",
              "      background-color: #434B5C;\n",
              "      box-shadow: 0px 1px 3px 1px rgba(0, 0, 0, 0.15);\n",
              "      filter: drop-shadow(0px 1px 2px rgba(0, 0, 0, 0.3));\n",
              "      fill: #FFFFFF;\n",
              "    }\n",
              "  </style>\n",
              "\n",
              "      <script>\n",
              "        const buttonEl =\n",
              "          document.querySelector('#df-71f98fe0-584a-415d-8bbd-63e060e2471f button.colab-df-convert');\n",
              "        buttonEl.style.display =\n",
              "          google.colab.kernel.accessAllowed ? 'block' : 'none';\n",
              "\n",
              "        async function convertToInteractive(key) {\n",
              "          const element = document.querySelector('#df-71f98fe0-584a-415d-8bbd-63e060e2471f');\n",
              "          const dataTable =\n",
              "            await google.colab.kernel.invokeFunction('convertToInteractive',\n",
              "                                                     [key], {});\n",
              "          if (!dataTable) return;\n",
              "\n",
              "          const docLinkHtml = 'Like what you see? Visit the ' +\n",
              "            '<a target=\"_blank\" href=https://colab.research.google.com/notebooks/data_table.ipynb>data table notebook</a>'\n",
              "            + ' to learn more about interactive tables.';\n",
              "          element.innerHTML = '';\n",
              "          dataTable['output_type'] = 'display_data';\n",
              "          await google.colab.output.renderOutput(dataTable, element);\n",
              "          const docLink = document.createElement('div');\n",
              "          docLink.innerHTML = docLinkHtml;\n",
              "          element.appendChild(docLink);\n",
              "        }\n",
              "      </script>\n",
              "    </div>\n",
              "  </div>\n",
              "  "
            ]
          },
          "metadata": {},
          "execution_count": 162
        }
      ]
    }
  ]
}