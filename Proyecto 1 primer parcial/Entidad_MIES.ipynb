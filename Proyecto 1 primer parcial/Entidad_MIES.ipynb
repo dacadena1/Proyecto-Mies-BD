{
  "nbformat": 4,
  "nbformat_minor": 0,
  "metadata": {
    "colab": {
      "provenance": []
    },
    "kernelspec": {
      "name": "python3",
      "display_name": "Python 3"
    },
    "language_info": {
      "name": "python"
    }
  },
  "cells": [
    {
      "cell_type": "markdown",
      "source": [
        "**MIES**\n",
        "\n",
        "El Ministerio de Inclusión Económica y Social, (MIES), es una entidad pública que ejerce rectoría y ejecuta políticas, regulaciones, programas y servicios para la inclusión social y atención durante el ciclo de vida, con prioridad en la población más vulnerable. Si bien es cierto que el registro social ya posee a traves de estudios demograficos los posibles candidatos para acceder al bono, aquellos que ya poseen este beneficio son monitoreados a traves del MIES con esto se busca que los beneficiarios no cometan algún fraude o se encuentre en peores condiciones. Con esto no se busca quitar el bono asignado si no mas bien llevar un registro ordenado."
      ],
      "metadata": {
        "id": "Nm1oRvafZIuI"
      }
    },
    {
      "cell_type": "code",
      "source": [
        "import pandas as pd\n",
        "import uuid\n",
        "import random\n",
        "import datetime"
      ],
      "metadata": {
        "id": "VZunZ0D9bGo4"
      },
      "execution_count": 50,
      "outputs": []
    },
    {
      "cell_type": "code",
      "source": [
        "num_users = 100000"
      ],
      "metadata": {
        "id": "fal5S48MbMxu"
      },
      "execution_count": 51,
      "outputs": []
    },
    {
      "cell_type": "code",
      "source": [
        "# Una lista de 4 caracteristicas\\n\",\n",
        "\n",
        "features = [  \n",
        "    'id',\n",
        "    'Datos_Actualizados',\n",
        "    'Medio_Actualizado',\n",
        "    'Fecha_Actualización',\n",
        "    'Cédula'\n",
        "    ]\n",
        "df = pd.DataFrame(columns=features) # Creando un DF para las caracteristicas \\n\","
      ],
      "metadata": {
        "id": "oH7B9QNvbcC-"
      },
      "execution_count": 52,
      "outputs": []
    },
    {
      "cell_type": "markdown",
      "source": [
        "**ID_Monitoreo**"
      ],
      "metadata": {
        "id": "JmgJue7XaD1H"
      }
    },
    {
      "cell_type": "markdown",
      "source": [
        "Como ya se recalco en otras entidades es necesario tener un índice que nos facilite la búsqueda de la informacion en este caso al tener un registro de monitoreo las IDs cambiaran por cada monitoreo que se realize al mismo o distinto beneficiario. De igual forma utilizaremos un nombre clave para diferenciarlo de las demas entidades"
      ],
      "metadata": {
        "id": "CU5Qwzn5aWgH"
      }
    },
    {
      "cell_type": "code",
      "execution_count": 53,
      "metadata": {
        "id": "LBKdyrEWY_vq"
      },
      "outputs": [],
      "source": [
        "Dominio='Mon'                                                                           #Creamos un string para concatenarlo con la ID\n",
        "df['id'] = [Dominio+str((random.sample(range(1,10000),1))) for i in range(num_users)]    #Asignamos al apartado de ID  el dominio inicial y concatenamos\n",
        "                                                                                         #con str el numero aleatorio que se va a generar"
      ]
    },
    {
      "cell_type": "markdown",
      "source": [
        "**DATOS ACTUALIZADOS**"
      ],
      "metadata": {
        "id": "WeD6G_BjdUkQ"
      }
    },
    {
      "cell_type": "markdown",
      "source": [
        "Los datos actualizados nos indican si el beneficiario a actualizado por lo menos una vez sus datos ya sea por otro atributo llamado motivo, si es asi nos mostrara un valor booleano para este caso sera True,si no ha existido algún motivo para actualizar los datos en este caso el valor sera False."
      ],
      "metadata": {
        "id": "MV9Ts5bGdYxW"
      }
    },
    {
      "cell_type": "code",
      "source": [
        "choice = [True, False]\n",
        "df['Datos_Actualizados'] = random.choices(\n",
        "    choice, \n",
        "    weights=(50,50),\n",
        "    k=num_users\n",
        ")"
      ],
      "metadata": {
        "id": "Gk5vG-9_fKw-"
      },
      "execution_count": 54,
      "outputs": []
    },
    {
      "cell_type": "markdown",
      "source": [
        "**MEDIO ACTUALIZADO**"
      ],
      "metadata": {
        "id": "xfLjHtDofxSW"
      }
    },
    {
      "cell_type": "markdown",
      "source": [
        "Es necesrio en muchos casos saber porque medio el beneficiario actualizo sus datos. Debemos recordar que muchos de estos beneficiarios poseen muy pocos recursos, es por eso que el MIES tiene designado tres medios por el cual actualizar la información. Estos canales son via web, call center, Agencia"
      ],
      "metadata": {
        "id": "2XuljBNRf0LX"
      }
    },
    {
      "cell_type": "code",
      "source": [
        "medio = [\"web\", \"telefónica\", \"Agencia\"]"
      ],
      "metadata": {
        "id": "y1CKhU1pg8kO"
      },
      "execution_count": 55,
      "outputs": []
    },
    {
      "cell_type": "code",
      "source": [
        "df['Medio_Actualizado'] = random.choices(\n",
        "    medio, \n",
        "    weights=(20,50,50), \n",
        "    k=num_users\n",
        ")"
      ],
      "metadata": {
        "id": "Rfh0mFHwhLpo"
      },
      "execution_count": 56,
      "outputs": []
    },
    {
      "cell_type": "markdown",
      "source": [
        "**FECHA DE ACTUALIZACIÓN**"
      ],
      "metadata": {
        "id": "_g--UOqkiR-n"
      }
    },
    {
      "cell_type": "markdown",
      "source": [
        "Este atributo posee la fecha en la que sus datos fueron actualizados. Existe una peculiaridad que son aquellos que no han actualizado los datos. ¿Porqué poseen una fecha? este dato se conservara y se tomará con el siguiente razonamiento. Si bien las personas que actualizaron sus datos poseeran fecha los que no actualizaron se la tomara como la fecha en que se registraron o se guardaron oficialmente sus datos, es decir el dia en que se tomo la encuesta."
      ],
      "metadata": {
        "id": "gW77og-kiYDt"
      }
    },
    {
      "cell_type": "code",
      "source": [
        "def random_dob(start, end, n):\n",
        "    \"\"\"\n",
        "    Generating a list of a set number of timestamps\n",
        "    \"\"\"\n",
        "    \n",
        "    # The timestamp format\n",
        "    frmt = \"%Y-%m-%d\"\n",
        "    \n",
        "    # Formatting the two time periods\n",
        "    stime = datetime.datetime.strptime(start, frmt)\n",
        "    etime = datetime.datetime.strptime(end, frmt)\n",
        "    \n",
        "    # Creating the pool for random times\n",
        "    td = etime - stime\n",
        "    \n",
        "    # Generating a list with the random times\n",
        "    times = [(random.random() * td + stime).strftime(frmt) for _ in range(n)]\n",
        "    \n",
        "    return times\n",
        "\n",
        "df['Fecha_Actualización'] = random_dob(\"2018-01-01\", \"2020-11-01\", num_users)"
      ],
      "metadata": {
        "id": "gBhq5rdIje3Y"
      },
      "execution_count": 57,
      "outputs": []
    },
    {
      "cell_type": "markdown",
      "source": [
        "**CÉDULA DE IDENTIDAD**"
      ],
      "metadata": {
        "id": "BVfqdp8LkBGH"
      }
    },
    {
      "cell_type": "markdown",
      "source": [
        "Es completamente necesario saber a quien pertenecen esos datos ya que sin esa información se estaria almacenando los datos actualizados de una persona que no conocemos. Por ende decidimos traer el mismo código para generar cédulas y asi saber a quien pertenece esos datos actualizados o no."
      ],
      "metadata": {
        "id": "lU2Q8y40kEPu"
      }
    },
    {
      "cell_type": "code",
      "source": [
        "df['Cédula'] = [(random.sample(range(1700000000, 1710000000),1)) for i in range(num_users)] #Escogemos el atributo id y le asignamos la funcion random concatenando\n",
        "                                                        #con randrange que los genera aleatoriamente empezando desde i hasta el \n",
        "                                                        #rango del numero de usuarios"
      ],
      "metadata": {
        "id": "XMikhy_LkAvG"
      },
      "execution_count": 58,
      "outputs": []
    },
    {
      "cell_type": "code",
      "source": [
        "df"
      ],
      "metadata": {
        "colab": {
          "base_uri": "https://localhost:8080/",
          "height": 424
        },
        "id": "PrGRZUiYdQvg",
        "outputId": "0378ccf8-cb68-4c2c-b066-9fabd66f19c8"
      },
      "execution_count": 59,
      "outputs": [
        {
          "output_type": "execute_result",
          "data": {
            "text/plain": [
              "              id  Datos_Actualizados Medio_Actualizado Fecha_Actualización  \\\n",
              "0      Mon[9041]                True           Agencia          2018-02-26   \n",
              "1      Mon[8317]                True        telefónica          2019-05-22   \n",
              "2      Mon[7656]               False           Agencia          2020-01-30   \n",
              "3      Mon[8591]               False        telefónica          2020-05-02   \n",
              "4      Mon[1098]               False           Agencia          2018-11-05   \n",
              "...          ...                 ...               ...                 ...   \n",
              "99995  Mon[9423]               False        telefónica          2020-01-15   \n",
              "99996   Mon[649]                True        telefónica          2020-06-03   \n",
              "99997  Mon[3601]                True        telefónica          2019-08-24   \n",
              "99998  Mon[8052]                True        telefónica          2020-08-05   \n",
              "99999  Mon[5988]                True        telefónica          2019-12-11   \n",
              "\n",
              "             Cédula  \n",
              "0      [1701539681]  \n",
              "1      [1707019324]  \n",
              "2      [1700898511]  \n",
              "3      [1705119599]  \n",
              "4      [1701160843]  \n",
              "...             ...  \n",
              "99995  [1702165935]  \n",
              "99996  [1703016908]  \n",
              "99997  [1700410702]  \n",
              "99998  [1705283236]  \n",
              "99999  [1706608019]  \n",
              "\n",
              "[100000 rows x 5 columns]"
            ],
            "text/html": [
              "\n",
              "  <div id=\"df-8715db80-2c2f-49d6-860d-ac9a3eccee54\">\n",
              "    <div class=\"colab-df-container\">\n",
              "      <div>\n",
              "<style scoped>\n",
              "    .dataframe tbody tr th:only-of-type {\n",
              "        vertical-align: middle;\n",
              "    }\n",
              "\n",
              "    .dataframe tbody tr th {\n",
              "        vertical-align: top;\n",
              "    }\n",
              "\n",
              "    .dataframe thead th {\n",
              "        text-align: right;\n",
              "    }\n",
              "</style>\n",
              "<table border=\"1\" class=\"dataframe\">\n",
              "  <thead>\n",
              "    <tr style=\"text-align: right;\">\n",
              "      <th></th>\n",
              "      <th>id</th>\n",
              "      <th>Datos_Actualizados</th>\n",
              "      <th>Medio_Actualizado</th>\n",
              "      <th>Fecha_Actualización</th>\n",
              "      <th>Cédula</th>\n",
              "    </tr>\n",
              "  </thead>\n",
              "  <tbody>\n",
              "    <tr>\n",
              "      <th>0</th>\n",
              "      <td>Mon[9041]</td>\n",
              "      <td>True</td>\n",
              "      <td>Agencia</td>\n",
              "      <td>2018-02-26</td>\n",
              "      <td>[1701539681]</td>\n",
              "    </tr>\n",
              "    <tr>\n",
              "      <th>1</th>\n",
              "      <td>Mon[8317]</td>\n",
              "      <td>True</td>\n",
              "      <td>telefónica</td>\n",
              "      <td>2019-05-22</td>\n",
              "      <td>[1707019324]</td>\n",
              "    </tr>\n",
              "    <tr>\n",
              "      <th>2</th>\n",
              "      <td>Mon[7656]</td>\n",
              "      <td>False</td>\n",
              "      <td>Agencia</td>\n",
              "      <td>2020-01-30</td>\n",
              "      <td>[1700898511]</td>\n",
              "    </tr>\n",
              "    <tr>\n",
              "      <th>3</th>\n",
              "      <td>Mon[8591]</td>\n",
              "      <td>False</td>\n",
              "      <td>telefónica</td>\n",
              "      <td>2020-05-02</td>\n",
              "      <td>[1705119599]</td>\n",
              "    </tr>\n",
              "    <tr>\n",
              "      <th>4</th>\n",
              "      <td>Mon[1098]</td>\n",
              "      <td>False</td>\n",
              "      <td>Agencia</td>\n",
              "      <td>2018-11-05</td>\n",
              "      <td>[1701160843]</td>\n",
              "    </tr>\n",
              "    <tr>\n",
              "      <th>...</th>\n",
              "      <td>...</td>\n",
              "      <td>...</td>\n",
              "      <td>...</td>\n",
              "      <td>...</td>\n",
              "      <td>...</td>\n",
              "    </tr>\n",
              "    <tr>\n",
              "      <th>99995</th>\n",
              "      <td>Mon[9423]</td>\n",
              "      <td>False</td>\n",
              "      <td>telefónica</td>\n",
              "      <td>2020-01-15</td>\n",
              "      <td>[1702165935]</td>\n",
              "    </tr>\n",
              "    <tr>\n",
              "      <th>99996</th>\n",
              "      <td>Mon[649]</td>\n",
              "      <td>True</td>\n",
              "      <td>telefónica</td>\n",
              "      <td>2020-06-03</td>\n",
              "      <td>[1703016908]</td>\n",
              "    </tr>\n",
              "    <tr>\n",
              "      <th>99997</th>\n",
              "      <td>Mon[3601]</td>\n",
              "      <td>True</td>\n",
              "      <td>telefónica</td>\n",
              "      <td>2019-08-24</td>\n",
              "      <td>[1700410702]</td>\n",
              "    </tr>\n",
              "    <tr>\n",
              "      <th>99998</th>\n",
              "      <td>Mon[8052]</td>\n",
              "      <td>True</td>\n",
              "      <td>telefónica</td>\n",
              "      <td>2020-08-05</td>\n",
              "      <td>[1705283236]</td>\n",
              "    </tr>\n",
              "    <tr>\n",
              "      <th>99999</th>\n",
              "      <td>Mon[5988]</td>\n",
              "      <td>True</td>\n",
              "      <td>telefónica</td>\n",
              "      <td>2019-12-11</td>\n",
              "      <td>[1706608019]</td>\n",
              "    </tr>\n",
              "  </tbody>\n",
              "</table>\n",
              "<p>100000 rows × 5 columns</p>\n",
              "</div>\n",
              "      <button class=\"colab-df-convert\" onclick=\"convertToInteractive('df-8715db80-2c2f-49d6-860d-ac9a3eccee54')\"\n",
              "              title=\"Convert this dataframe to an interactive table.\"\n",
              "              style=\"display:none;\">\n",
              "        \n",
              "  <svg xmlns=\"http://www.w3.org/2000/svg\" height=\"24px\"viewBox=\"0 0 24 24\"\n",
              "       width=\"24px\">\n",
              "    <path d=\"M0 0h24v24H0V0z\" fill=\"none\"/>\n",
              "    <path d=\"M18.56 5.44l.94 2.06.94-2.06 2.06-.94-2.06-.94-.94-2.06-.94 2.06-2.06.94zm-11 1L8.5 8.5l.94-2.06 2.06-.94-2.06-.94L8.5 2.5l-.94 2.06-2.06.94zm10 10l.94 2.06.94-2.06 2.06-.94-2.06-.94-.94-2.06-.94 2.06-2.06.94z\"/><path d=\"M17.41 7.96l-1.37-1.37c-.4-.4-.92-.59-1.43-.59-.52 0-1.04.2-1.43.59L10.3 9.45l-7.72 7.72c-.78.78-.78 2.05 0 2.83L4 21.41c.39.39.9.59 1.41.59.51 0 1.02-.2 1.41-.59l7.78-7.78 2.81-2.81c.8-.78.8-2.07 0-2.86zM5.41 20L4 18.59l7.72-7.72 1.47 1.35L5.41 20z\"/>\n",
              "  </svg>\n",
              "      </button>\n",
              "      \n",
              "  <style>\n",
              "    .colab-df-container {\n",
              "      display:flex;\n",
              "      flex-wrap:wrap;\n",
              "      gap: 12px;\n",
              "    }\n",
              "\n",
              "    .colab-df-convert {\n",
              "      background-color: #E8F0FE;\n",
              "      border: none;\n",
              "      border-radius: 50%;\n",
              "      cursor: pointer;\n",
              "      display: none;\n",
              "      fill: #1967D2;\n",
              "      height: 32px;\n",
              "      padding: 0 0 0 0;\n",
              "      width: 32px;\n",
              "    }\n",
              "\n",
              "    .colab-df-convert:hover {\n",
              "      background-color: #E2EBFA;\n",
              "      box-shadow: 0px 1px 2px rgba(60, 64, 67, 0.3), 0px 1px 3px 1px rgba(60, 64, 67, 0.15);\n",
              "      fill: #174EA6;\n",
              "    }\n",
              "\n",
              "    [theme=dark] .colab-df-convert {\n",
              "      background-color: #3B4455;\n",
              "      fill: #D2E3FC;\n",
              "    }\n",
              "\n",
              "    [theme=dark] .colab-df-convert:hover {\n",
              "      background-color: #434B5C;\n",
              "      box-shadow: 0px 1px 3px 1px rgba(0, 0, 0, 0.15);\n",
              "      filter: drop-shadow(0px 1px 2px rgba(0, 0, 0, 0.3));\n",
              "      fill: #FFFFFF;\n",
              "    }\n",
              "  </style>\n",
              "\n",
              "      <script>\n",
              "        const buttonEl =\n",
              "          document.querySelector('#df-8715db80-2c2f-49d6-860d-ac9a3eccee54 button.colab-df-convert');\n",
              "        buttonEl.style.display =\n",
              "          google.colab.kernel.accessAllowed ? 'block' : 'none';\n",
              "\n",
              "        async function convertToInteractive(key) {\n",
              "          const element = document.querySelector('#df-8715db80-2c2f-49d6-860d-ac9a3eccee54');\n",
              "          const dataTable =\n",
              "            await google.colab.kernel.invokeFunction('convertToInteractive',\n",
              "                                                     [key], {});\n",
              "          if (!dataTable) return;\n",
              "\n",
              "          const docLinkHtml = 'Like what you see? Visit the ' +\n",
              "            '<a target=\"_blank\" href=https://colab.research.google.com/notebooks/data_table.ipynb>data table notebook</a>'\n",
              "            + ' to learn more about interactive tables.';\n",
              "          element.innerHTML = '';\n",
              "          dataTable['output_type'] = 'display_data';\n",
              "          await google.colab.output.renderOutput(dataTable, element);\n",
              "          const docLink = document.createElement('div');\n",
              "          docLink.innerHTML = docLinkHtml;\n",
              "          element.appendChild(docLink);\n",
              "        }\n",
              "      </script>\n",
              "    </div>\n",
              "  </div>\n",
              "  "
            ]
          },
          "metadata": {},
          "execution_count": 59
        }
      ]
    }
  ]
}