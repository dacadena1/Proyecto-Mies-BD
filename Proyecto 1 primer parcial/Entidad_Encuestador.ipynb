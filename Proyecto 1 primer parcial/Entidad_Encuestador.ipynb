{
  "nbformat": 4,
  "nbformat_minor": 0,
  "metadata": {
    "colab": {
      "provenance": []
    },
    "kernelspec": {
      "name": "python3",
      "display_name": "Python 3"
    },
    "language_info": {
      "name": "python"
    }
  },
  "cells": [
    {
      "cell_type": "markdown",
      "source": [
        "**ENTIDAD ENCUESTADOR**"
      ],
      "metadata": {
        "id": "wnmSvsqW6o4V"
      }
    },
    {
      "cell_type": "markdown",
      "source": [
        "La entidad encuestador nace a traves del Registro Social o SENPLADES ya que el beneficiario una vez que conste como apto para acceder un bono esto se debe confirmar mediante una encuesta. Es aqui donde se confirmar a que grupo pertenece y la cantidad de dinero que puede cobrar. Una vez entendido esto los atributos propios del encuestador es el siguiente son los siguientes.\n",
        "\n",
        "-El identificador único del encuestador, sus nombres y apellidos, su cédula de identidad y por último su status"
      ],
      "metadata": {
        "id": "8aUEHUV67BuV"
      }
    },
    {
      "cell_type": "code",
      "source": [
        "pip install faker"
      ],
      "metadata": {
        "colab": {
          "base_uri": "https://localhost:8080/"
        },
        "id": "dMKnCKpCNKMg",
        "outputId": "fec942ff-805f-408d-8d89-05e8da813741"
      },
      "execution_count": 24,
      "outputs": [
        {
          "output_type": "stream",
          "name": "stdout",
          "text": [
            "Looking in indexes: https://pypi.org/simple, https://us-python.pkg.dev/colab-wheels/public/simple/\n",
            "Requirement already satisfied: faker in /usr/local/lib/python3.8/dist-packages (15.3.4)\n",
            "Requirement already satisfied: python-dateutil>=2.4 in /usr/local/lib/python3.8/dist-packages (from faker) (2.8.2)\n",
            "Requirement already satisfied: six>=1.5 in /usr/local/lib/python3.8/dist-packages (from python-dateutil>=2.4->faker) (1.15.0)\n"
          ]
        }
      ]
    },
    {
      "cell_type": "code",
      "source": [
        "import pandas as pd\n",
        "import uuid\n",
        "import random\n",
        "import datetime\n",
        "from faker import Faker"
      ],
      "metadata": {
        "id": "iWp0YtrqMOWe"
      },
      "execution_count": 25,
      "outputs": []
    },
    {
      "cell_type": "code",
      "source": [
        "num_users = 100000"
      ],
      "metadata": {
        "id": "zkrJnlX7MSDY"
      },
      "execution_count": 26,
      "outputs": []
    },
    {
      "cell_type": "code",
      "source": [
        "features = [\n",
        "    \"ID_Encuestador\",\n",
        "    \"Cédula\",\n",
        "    \"Nombre\",\n",
        "    \"Status\",\n",
        "]# Creating a DF for these features\n",
        "df = pd.DataFrame(columns=features)"
      ],
      "metadata": {
        "id": "buM3JKCwMWAY"
      },
      "execution_count": 27,
      "outputs": []
    },
    {
      "cell_type": "markdown",
      "source": [
        "**ID_ENCUESTADOR**"
      ],
      "metadata": {
        "id": "8pbD1LjhK8-p"
      }
    },
    {
      "cell_type": "markdown",
      "source": [
        "La necesidad de tener un ID para cada entidad es completamente necesaria debido a la facilidad al momento de realizar una busqueda y optimizar los procesos de estructura de datos. Para generar el ID del encuestador le asigamos una pequeña abreviatura para distinguirla, en este caso la abreviatura sera IDEnct"
      ],
      "metadata": {
        "id": "4VolRLdOLB7Q"
      }
    },
    {
      "cell_type": "code",
      "execution_count": 28,
      "metadata": {
        "id": "VTekbGZb55Qt"
      },
      "outputs": [],
      "source": [
        "Dominio='IDEnct'                                                                           #Creamos un string para concatenarlo con la ID\n",
        "df['ID_Encuestador'] = [Dominio+str((random.sample(range(1,10000),1))) for i in range(num_users)]    #Asignamos al apartado de ID  el dominio inicial y concatenamos\n",
        "                                                                                         #con str el numero aleatorio que se va a generar"
      ]
    },
    {
      "cell_type": "markdown",
      "source": [
        "**NOMBRE**"
      ],
      "metadata": {
        "id": "r90MR1aEM6a6"
      }
    },
    {
      "cell_type": "markdown",
      "source": [
        "Aquí usé la biblioteca Faker para crear miles de nombres para todos estos usuarios. La biblioteca Faker es excelente en esta situación porque tiene una opción para nombres masculinos y femeninos.}} Para procesar los nombres de género, creé una función para asignar nombres en función de un género determinado."
      ],
      "metadata": {
        "id": "D9X1ufIINBOp"
      }
    },
    {
      "cell_type": "code",
      "source": [
        "# Instantiating faker\n",
        "faker = Faker()\n",
        "\n",
        "def name_gen():\n",
        "    \"\"\"\n",
        "    Generamos un nombre aleatorio\n",
        "    en esta seccion no importa el genero\n",
        "    solo se lanzan nombres masculinos y\n",
        "    femeninos al azar\n",
        "    ----------------------\n",
        "    La funcion no posee parámetros\n",
        "    \"\"\"\n",
        "    \n",
        "    return faker.name()# Generamos nombres para cualquier género\n",
        "df['Nombre'] = [name_gen() for i in range(num_users)] #asignamos al atributo nombre la función que creamos y que va desde i hasta el numero final de usuarios"
      ],
      "metadata": {
        "id": "1RBac4l9NfPg"
      },
      "execution_count": 34,
      "outputs": []
    },
    {
      "cell_type": "markdown",
      "source": [
        "**CÉDULA DE IDENTIDAD**"
      ],
      "metadata": {
        "id": "AFBbB6zmPrNL"
      }
    },
    {
      "cell_type": "markdown",
      "source": [
        "El siguiente código es uno de los mas fáciles y de los que mas se ha usado durante el proyecto. Básicamente lo que realiza este fragmento de código es asiganrle al atributo cédula un numero aleatorio dentro de un rango que no sobrepase los 10 dígitos propios de una cédula real."
      ],
      "metadata": {
        "id": "RDSAheMFPvlQ"
      }
    },
    {
      "cell_type": "code",
      "source": [
        "df['Cédula'] = [(random.sample(range(1700000000, 1710000000),1)) for i in range(num_users)] #Escogemos el atributo id y le asignamos la funcion random concatenando\n",
        "                                                        #con randrange que los genera aleatoriamente empezando desde i hasta el \n",
        "                                                        #rango del numero de usuarios"
      ],
      "metadata": {
        "id": "V8XFAFbbPwvJ"
      },
      "execution_count": 36,
      "outputs": []
    },
    {
      "cell_type": "markdown",
      "source": [
        "**STATUS**"
      ],
      "metadata": {
        "id": "h0kYHnnFTNex"
      }
    },
    {
      "cell_type": "code",
      "source": [
        "std = [\"activo\", \"inactivo\"] #Creamos un array con dos únicos valores o estados "
      ],
      "metadata": {
        "id": "o8VyPbikTm76"
      },
      "execution_count": 39,
      "outputs": []
    },
    {
      "cell_type": "code",
      "source": [
        "df['Status'] = random.choices(\n",
        "    std, \n",
        "    weights=(80,20), \n",
        "    k=num_users\n",
        ")"
      ],
      "metadata": {
        "id": "SOUBXbaiUOYq"
      },
      "execution_count": 40,
      "outputs": []
    },
    {
      "cell_type": "code",
      "source": [
        "df"
      ],
      "metadata": {
        "colab": {
          "base_uri": "https://localhost:8080/",
          "height": 424
        },
        "id": "vx-sJK4rMo6g",
        "outputId": "83a62e83-1c51-47c0-d776-59521e1978e7"
      },
      "execution_count": 41,
      "outputs": [
        {
          "output_type": "execute_result",
          "data": {
            "text/plain": [
              "      ID_Encuestador        Cédula          Nombre  Status\n",
              "0       IDEnct[4899]  [1701676373]   Laura Montoya  activo\n",
              "1       IDEnct[5852]  [1707342831]  Charles Torres  activo\n",
              "2       IDEnct[8912]  [1701538846]     Carla Solis  activo\n",
              "3       IDEnct[6838]  [1703797847]    Cynthia Lynn  activo\n",
              "4       IDEnct[5786]  [1709259239]    Frank Hudson  activo\n",
              "...              ...           ...             ...     ...\n",
              "99995   IDEnct[8896]  [1704761325]   Shawn Jenkins  activo\n",
              "99996    IDEnct[709]  [1702309094]  Nicholas White  activo\n",
              "99997   IDEnct[8081]  [1704048175]    James Larson  activo\n",
              "99998   IDEnct[2206]  [1707964342]   Andrea Savage  activo\n",
              "99999   IDEnct[9937]  [1702003282]   Nicole Rogers  activo\n",
              "\n",
              "[100000 rows x 4 columns]"
            ],
            "text/html": [
              "\n",
              "  <div id=\"df-9c15f57d-133e-4e03-b576-87d3297fa319\">\n",
              "    <div class=\"colab-df-container\">\n",
              "      <div>\n",
              "<style scoped>\n",
              "    .dataframe tbody tr th:only-of-type {\n",
              "        vertical-align: middle;\n",
              "    }\n",
              "\n",
              "    .dataframe tbody tr th {\n",
              "        vertical-align: top;\n",
              "    }\n",
              "\n",
              "    .dataframe thead th {\n",
              "        text-align: right;\n",
              "    }\n",
              "</style>\n",
              "<table border=\"1\" class=\"dataframe\">\n",
              "  <thead>\n",
              "    <tr style=\"text-align: right;\">\n",
              "      <th></th>\n",
              "      <th>ID_Encuestador</th>\n",
              "      <th>Cédula</th>\n",
              "      <th>Nombre</th>\n",
              "      <th>Status</th>\n",
              "    </tr>\n",
              "  </thead>\n",
              "  <tbody>\n",
              "    <tr>\n",
              "      <th>0</th>\n",
              "      <td>IDEnct[4899]</td>\n",
              "      <td>[1701676373]</td>\n",
              "      <td>Laura Montoya</td>\n",
              "      <td>activo</td>\n",
              "    </tr>\n",
              "    <tr>\n",
              "      <th>1</th>\n",
              "      <td>IDEnct[5852]</td>\n",
              "      <td>[1707342831]</td>\n",
              "      <td>Charles Torres</td>\n",
              "      <td>activo</td>\n",
              "    </tr>\n",
              "    <tr>\n",
              "      <th>2</th>\n",
              "      <td>IDEnct[8912]</td>\n",
              "      <td>[1701538846]</td>\n",
              "      <td>Carla Solis</td>\n",
              "      <td>activo</td>\n",
              "    </tr>\n",
              "    <tr>\n",
              "      <th>3</th>\n",
              "      <td>IDEnct[6838]</td>\n",
              "      <td>[1703797847]</td>\n",
              "      <td>Cynthia Lynn</td>\n",
              "      <td>activo</td>\n",
              "    </tr>\n",
              "    <tr>\n",
              "      <th>4</th>\n",
              "      <td>IDEnct[5786]</td>\n",
              "      <td>[1709259239]</td>\n",
              "      <td>Frank Hudson</td>\n",
              "      <td>activo</td>\n",
              "    </tr>\n",
              "    <tr>\n",
              "      <th>...</th>\n",
              "      <td>...</td>\n",
              "      <td>...</td>\n",
              "      <td>...</td>\n",
              "      <td>...</td>\n",
              "    </tr>\n",
              "    <tr>\n",
              "      <th>99995</th>\n",
              "      <td>IDEnct[8896]</td>\n",
              "      <td>[1704761325]</td>\n",
              "      <td>Shawn Jenkins</td>\n",
              "      <td>activo</td>\n",
              "    </tr>\n",
              "    <tr>\n",
              "      <th>99996</th>\n",
              "      <td>IDEnct[709]</td>\n",
              "      <td>[1702309094]</td>\n",
              "      <td>Nicholas White</td>\n",
              "      <td>activo</td>\n",
              "    </tr>\n",
              "    <tr>\n",
              "      <th>99997</th>\n",
              "      <td>IDEnct[8081]</td>\n",
              "      <td>[1704048175]</td>\n",
              "      <td>James Larson</td>\n",
              "      <td>activo</td>\n",
              "    </tr>\n",
              "    <tr>\n",
              "      <th>99998</th>\n",
              "      <td>IDEnct[2206]</td>\n",
              "      <td>[1707964342]</td>\n",
              "      <td>Andrea Savage</td>\n",
              "      <td>activo</td>\n",
              "    </tr>\n",
              "    <tr>\n",
              "      <th>99999</th>\n",
              "      <td>IDEnct[9937]</td>\n",
              "      <td>[1702003282]</td>\n",
              "      <td>Nicole Rogers</td>\n",
              "      <td>activo</td>\n",
              "    </tr>\n",
              "  </tbody>\n",
              "</table>\n",
              "<p>100000 rows × 4 columns</p>\n",
              "</div>\n",
              "      <button class=\"colab-df-convert\" onclick=\"convertToInteractive('df-9c15f57d-133e-4e03-b576-87d3297fa319')\"\n",
              "              title=\"Convert this dataframe to an interactive table.\"\n",
              "              style=\"display:none;\">\n",
              "        \n",
              "  <svg xmlns=\"http://www.w3.org/2000/svg\" height=\"24px\"viewBox=\"0 0 24 24\"\n",
              "       width=\"24px\">\n",
              "    <path d=\"M0 0h24v24H0V0z\" fill=\"none\"/>\n",
              "    <path d=\"M18.56 5.44l.94 2.06.94-2.06 2.06-.94-2.06-.94-.94-2.06-.94 2.06-2.06.94zm-11 1L8.5 8.5l.94-2.06 2.06-.94-2.06-.94L8.5 2.5l-.94 2.06-2.06.94zm10 10l.94 2.06.94-2.06 2.06-.94-2.06-.94-.94-2.06-.94 2.06-2.06.94z\"/><path d=\"M17.41 7.96l-1.37-1.37c-.4-.4-.92-.59-1.43-.59-.52 0-1.04.2-1.43.59L10.3 9.45l-7.72 7.72c-.78.78-.78 2.05 0 2.83L4 21.41c.39.39.9.59 1.41.59.51 0 1.02-.2 1.41-.59l7.78-7.78 2.81-2.81c.8-.78.8-2.07 0-2.86zM5.41 20L4 18.59l7.72-7.72 1.47 1.35L5.41 20z\"/>\n",
              "  </svg>\n",
              "      </button>\n",
              "      \n",
              "  <style>\n",
              "    .colab-df-container {\n",
              "      display:flex;\n",
              "      flex-wrap:wrap;\n",
              "      gap: 12px;\n",
              "    }\n",
              "\n",
              "    .colab-df-convert {\n",
              "      background-color: #E8F0FE;\n",
              "      border: none;\n",
              "      border-radius: 50%;\n",
              "      cursor: pointer;\n",
              "      display: none;\n",
              "      fill: #1967D2;\n",
              "      height: 32px;\n",
              "      padding: 0 0 0 0;\n",
              "      width: 32px;\n",
              "    }\n",
              "\n",
              "    .colab-df-convert:hover {\n",
              "      background-color: #E2EBFA;\n",
              "      box-shadow: 0px 1px 2px rgba(60, 64, 67, 0.3), 0px 1px 3px 1px rgba(60, 64, 67, 0.15);\n",
              "      fill: #174EA6;\n",
              "    }\n",
              "\n",
              "    [theme=dark] .colab-df-convert {\n",
              "      background-color: #3B4455;\n",
              "      fill: #D2E3FC;\n",
              "    }\n",
              "\n",
              "    [theme=dark] .colab-df-convert:hover {\n",
              "      background-color: #434B5C;\n",
              "      box-shadow: 0px 1px 3px 1px rgba(0, 0, 0, 0.15);\n",
              "      filter: drop-shadow(0px 1px 2px rgba(0, 0, 0, 0.3));\n",
              "      fill: #FFFFFF;\n",
              "    }\n",
              "  </style>\n",
              "\n",
              "      <script>\n",
              "        const buttonEl =\n",
              "          document.querySelector('#df-9c15f57d-133e-4e03-b576-87d3297fa319 button.colab-df-convert');\n",
              "        buttonEl.style.display =\n",
              "          google.colab.kernel.accessAllowed ? 'block' : 'none';\n",
              "\n",
              "        async function convertToInteractive(key) {\n",
              "          const element = document.querySelector('#df-9c15f57d-133e-4e03-b576-87d3297fa319');\n",
              "          const dataTable =\n",
              "            await google.colab.kernel.invokeFunction('convertToInteractive',\n",
              "                                                     [key], {});\n",
              "          if (!dataTable) return;\n",
              "\n",
              "          const docLinkHtml = 'Like what you see? Visit the ' +\n",
              "            '<a target=\"_blank\" href=https://colab.research.google.com/notebooks/data_table.ipynb>data table notebook</a>'\n",
              "            + ' to learn more about interactive tables.';\n",
              "          element.innerHTML = '';\n",
              "          dataTable['output_type'] = 'display_data';\n",
              "          await google.colab.output.renderOutput(dataTable, element);\n",
              "          const docLink = document.createElement('div');\n",
              "          docLink.innerHTML = docLinkHtml;\n",
              "          element.appendChild(docLink);\n",
              "        }\n",
              "      </script>\n",
              "    </div>\n",
              "  </div>\n",
              "  "
            ]
          },
          "metadata": {},
          "execution_count": 41
        }
      ]
    }
  ]
}