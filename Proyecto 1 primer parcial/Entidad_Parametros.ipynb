{
  "nbformat": 4,
  "nbformat_minor": 0,
  "metadata": {
    "colab": {
      "provenance": []
    },
    "kernelspec": {
      "name": "python3",
      "display_name": "Python 3"
    },
    "language_info": {
      "name": "python"
    }
  },
  "cells": [
    {
      "cell_type": "markdown",
      "source": [
        "**PARÁMETROS**\n",
        "\n",
        "Los parametros qe posee un determinado programa son esenciales para establecer las reglas que los beneficiarios deben seguir para seguir cobrando el bono de desarollo humano. En el siguiente colab vamos a desarollar la entidad parámetros donde tendremos los siguientes atributos. \n",
        "Parámetros: \n",
        "\n",
        "          -ID del Parámetro\n",
        "\n",
        "          -Tipo del Parámetro \n",
        "\n",
        "          -Grupo al que pertenece el parametro\n",
        "\n",
        "Aunque parezcan muy pocas entidades son las suficientes para que el beneficiario acceda a un programa determinado "
      ],
      "metadata": {
        "id": "reambA3x_4qu"
      }
    },
    {
      "cell_type": "code",
      "source": [
        "pip install faker"
      ],
      "metadata": {
        "colab": {
          "base_uri": "https://localhost:8080/"
        },
        "id": "CsMw-gwHBFc6",
        "outputId": "87b556a4-9053-4113-d415-50b83bae8f21"
      },
      "execution_count": 94,
      "outputs": [
        {
          "output_type": "stream",
          "name": "stdout",
          "text": [
            "Looking in indexes: https://pypi.org/simple, https://us-python.pkg.dev/colab-wheels/public/simple/\n",
            "Requirement already satisfied: faker in /usr/local/lib/python3.8/dist-packages (15.3.4)\n",
            "Requirement already satisfied: python-dateutil>=2.4 in /usr/local/lib/python3.8/dist-packages (from faker) (2.8.2)\n",
            "Requirement already satisfied: six>=1.5 in /usr/local/lib/python3.8/dist-packages (from python-dateutil>=2.4->faker) (1.15.0)\n"
          ]
        }
      ]
    },
    {
      "cell_type": "code",
      "execution_count": 95,
      "metadata": {
        "id": "D0RxnUr5_toe"
      },
      "outputs": [],
      "source": [
        "import pandas as pd\n",
        "import uuid\n",
        "import random\n",
        "from faker import Faker\n",
        "import datetime"
      ]
    },
    {
      "cell_type": "markdown",
      "source": [
        "**Tamaño**"
      ],
      "metadata": {
        "id": "qqXv-tw4GOBZ"
      }
    },
    {
      "cell_type": "markdown",
      "source": [
        "El tamaño del conjunto de datos será de 5 000 puntos de datos (puede hacer más, pero el procesamiento puede demorar más). Asigné esta cantidad a una variable constante, que usé en todo momento:"
      ],
      "metadata": {
        "id": "_kQchyLWGScx"
      }
    },
    {
      "cell_type": "code",
      "source": [
        "num_users = 100000"
      ],
      "metadata": {
        "id": "_CYrcetCGKoq"
      },
      "execution_count": 96,
      "outputs": []
    },
    {
      "cell_type": "code",
      "source": [
        "# Una lista de 4 caracteristicas\\n\",\n",
        "\n",
        "features = [  \n",
        "    'id',\n",
        "    'grupo',\n",
        "    'tipo',\n",
        "    ]\n",
        "df = pd.DataFrame(columns=features) # Creando un DF para las caracteristicas \\n\","
      ],
      "metadata": {
        "id": "-LRlBOOpMgZB"
      },
      "execution_count": 97,
      "outputs": []
    },
    {
      "cell_type": "markdown",
      "source": [
        "**ID de Parámetro**"
      ],
      "metadata": {
        "id": "ZzSEKh5eKndS"
      }
    },
    {
      "cell_type": "markdown",
      "source": [
        "El siguiente atributo es necesario para ubicar de forma rápida el parametro que el beneficiario debe estar cumpliendo. Este ID es tambien necesario ya que al estar manejando demasiados registros se necesita de un indice que nos ayude a ubicar rápidamente la información."
      ],
      "metadata": {
        "id": "qIUkeujhKsPK"
      }
    },
    {
      "cell_type": "code",
      "source": [
        "Dominio='IDPr'                                                                           #Creamos un string para concatenarlo con la ID\n",
        "df['id'] = [Dominio+str((random.sample(range(1,10000),1))) for i in range(num_users)]    #Asignamos al apartado de ID  el dominio inicial y concatenamos\n",
        "                                                                                         #con str el numero aleatorio que se va a generar"
      ],
      "metadata": {
        "id": "AiN1GaizKnHJ"
      },
      "execution_count": 98,
      "outputs": []
    },
    {
      "cell_type": "markdown",
      "source": [
        "**GRUPO**"
      ],
      "metadata": {
        "id": "GMYxbDqQYCl3"
      }
    },
    {
      "cell_type": "markdown",
      "source": [
        "El siguiente atributo lo obtuvimos mediante el analisis de los programas de transferencia existen grupos que accedentes a beneficios exclusivos para ese tipo por ende los parametros deben aderirse a ese grupo espcifico. Demostrandolo con un ejemplo un beneficiario pertenece al grupo de adulto mayor y este no posee condicion para usar su bono. Por ende no podemos asignarle la condicion de educacion por que no es su condicion respectiva. En este apartado unicamente generaremos los grupos"
      ],
      "metadata": {
        "id": "36ktYFMbYIxv"
      }
    },
    {
      "cell_type": "code",
      "source": [
        "Grupo=[\"Hogar Vulnerable\",\"Hogar con hijos menores\",\"Adultos Mayores\", \"Usuario de Pensión no Contributiva\",\"Adulto Mayor Pobreza Extrema\",\"Personas Discapacitadas\"]"
      ],
      "metadata": {
        "id": "D6ftk7wEYIA_"
      },
      "execution_count": 102,
      "outputs": []
    },
    {
      "cell_type": "code",
      "source": [
        "df['grupo'] = random.choices(\n",
        "    Grupo, \n",
        "    weights=(20,20,20,20,20,20), \n",
        "    k=num_users\n",
        ")"
      ],
      "metadata": {
        "id": "KN6fIvr_aT8A"
      },
      "execution_count": 103,
      "outputs": []
    },
    {
      "cell_type": "markdown",
      "source": [
        "**CONDICIÓN**"
      ],
      "metadata": {
        "id": "KgcfL-NNbO-3"
      }
    },
    {
      "cell_type": "markdown",
      "source": [
        "En este atribut asiganaremos las condiciones que debe cumplir cada tipo. Toda esta informacion esta sostenida sobre la evaluación social del MIES. Las condiciones que tendremos son las siguientes:\n",
        "\n",
        "-Los hogares vulnerables deben usar el bono para salud, educación y erradicación del trabajo infantil.\n",
        "\n",
        "-Los hogares pobres extremos con hijos menores de igual forma su condición es usar el bono para salud, educación y erradicación del trabajo infantil.\n",
        "\n",
        "-Los beneficiarios de pensiones no contributivas deben designar su bono para eduacion financiera y empresarial.\n",
        "\n",
        "-Por ultimo tanto adultos mayores, adultos mayores en pobreza extrema y personas discapacitadas no poseen condición para el uso del bono"
      ],
      "metadata": {
        "id": "S5PEzvgAbrvA"
      }
    },
    {
      "cell_type": "code",
      "source": [
        "\n",
        "condicion=[\" salud, educación y erradicación del trabajo infantil\",\"eduación financiera y empresarial.\",\"Sin condicion\"] #Cadena de caracteres con las condiciones\n",
        "def name_gen(Grupo):                                    #Creamos una función\n",
        "    \"\"\" \n",
        "    Comparamos los valores del grupo con la condición.\n",
        "    En base a eso retornamos algun valor de la cadena\n",
        "    de condición creada anteriormente\n",
        "\n",
        "    --------------------------------------\n",
        "    Parámetros: Pasamos la cadena de caracteres definida \n",
        "    aneriormente en el atributo grupo \n",
        "    \"\"\"\n",
        "    if Grupo=='Hogar Vulnerable':                  #si la cadena detecta el nombre 'hogar vulnerable'\n",
        "        return condicion[0]                        #se asigna la condicion 0 que pertenece a la cadena condicion\n",
        "    elif Grupo=='Hogar con hijos menores':\n",
        "       return condicion[0]\n",
        "    elif Grupo=='Usuario de Pensión no Contributiva': \n",
        "       return condicion[1]\n",
        "    \n",
        "    return condicion[2]# Si no cumple con ninguno de los tres nombres detectados entonces sera por defecto la condicion -->ninguna\n",
        "df['tipo'] = [name_gen(i) for i in df['grupo']] #Asignamos al atributo tipo de nuestra  cadena la funcion "
      ],
      "metadata": {
        "id": "uisrJKhRbIHv"
      },
      "execution_count": 116,
      "outputs": []
    },
    {
      "cell_type": "code",
      "source": [
        "df"
      ],
      "metadata": {
        "colab": {
          "base_uri": "https://localhost:8080/",
          "height": 424
        },
        "id": "x0HbmCMAOd2w",
        "outputId": "aec01b90-e2b6-4acb-9c83-210eeb1749fd"
      },
      "execution_count": 114,
      "outputs": [
        {
          "output_type": "execute_result",
          "data": {
            "text/plain": [
              "               id                               grupo  \\\n",
              "0      IDPr[8843]                    Hogar Vulnerable   \n",
              "1      IDPr[5346]        Adulto Mayor Pobreza Extrema   \n",
              "2      IDPr[6924]                    Hogar Vulnerable   \n",
              "3      IDPr[6994]             Hogar con hijos menores   \n",
              "4      IDPr[6510]                    Hogar Vulnerable   \n",
              "...           ...                                 ...   \n",
              "99995   IDPr[630]  Usuario de Pensión no Contributiva   \n",
              "99996  IDPr[4282]                    Hogar Vulnerable   \n",
              "99997  IDPr[5568]             Personas Discapacitadas   \n",
              "99998  IDPr[3622]                     Adultos Mayores   \n",
              "99999   IDPr[591]                     Adultos Mayores   \n",
              "\n",
              "                                                    tipo  \n",
              "0       salud, educación y erradicación del trabajo i...  \n",
              "1                                          Sin condicion  \n",
              "2       salud, educación y erradicación del trabajo i...  \n",
              "3       salud, educación y erradicación del trabajo i...  \n",
              "4       salud, educación y erradicación del trabajo i...  \n",
              "...                                                  ...  \n",
              "99995                 eduación financiera y empresarial.  \n",
              "99996   salud, educación y erradicación del trabajo i...  \n",
              "99997                                      Sin condicion  \n",
              "99998                                      Sin condicion  \n",
              "99999                                      Sin condicion  \n",
              "\n",
              "[100000 rows x 3 columns]"
            ],
            "text/html": [
              "\n",
              "  <div id=\"df-4c8ed59d-9e61-460b-a0b3-2c298650c7f6\">\n",
              "    <div class=\"colab-df-container\">\n",
              "      <div>\n",
              "<style scoped>\n",
              "    .dataframe tbody tr th:only-of-type {\n",
              "        vertical-align: middle;\n",
              "    }\n",
              "\n",
              "    .dataframe tbody tr th {\n",
              "        vertical-align: top;\n",
              "    }\n",
              "\n",
              "    .dataframe thead th {\n",
              "        text-align: right;\n",
              "    }\n",
              "</style>\n",
              "<table border=\"1\" class=\"dataframe\">\n",
              "  <thead>\n",
              "    <tr style=\"text-align: right;\">\n",
              "      <th></th>\n",
              "      <th>id</th>\n",
              "      <th>grupo</th>\n",
              "      <th>tipo</th>\n",
              "    </tr>\n",
              "  </thead>\n",
              "  <tbody>\n",
              "    <tr>\n",
              "      <th>0</th>\n",
              "      <td>IDPr[8843]</td>\n",
              "      <td>Hogar Vulnerable</td>\n",
              "      <td>salud, educación y erradicación del trabajo i...</td>\n",
              "    </tr>\n",
              "    <tr>\n",
              "      <th>1</th>\n",
              "      <td>IDPr[5346]</td>\n",
              "      <td>Adulto Mayor Pobreza Extrema</td>\n",
              "      <td>Sin condicion</td>\n",
              "    </tr>\n",
              "    <tr>\n",
              "      <th>2</th>\n",
              "      <td>IDPr[6924]</td>\n",
              "      <td>Hogar Vulnerable</td>\n",
              "      <td>salud, educación y erradicación del trabajo i...</td>\n",
              "    </tr>\n",
              "    <tr>\n",
              "      <th>3</th>\n",
              "      <td>IDPr[6994]</td>\n",
              "      <td>Hogar con hijos menores</td>\n",
              "      <td>salud, educación y erradicación del trabajo i...</td>\n",
              "    </tr>\n",
              "    <tr>\n",
              "      <th>4</th>\n",
              "      <td>IDPr[6510]</td>\n",
              "      <td>Hogar Vulnerable</td>\n",
              "      <td>salud, educación y erradicación del trabajo i...</td>\n",
              "    </tr>\n",
              "    <tr>\n",
              "      <th>...</th>\n",
              "      <td>...</td>\n",
              "      <td>...</td>\n",
              "      <td>...</td>\n",
              "    </tr>\n",
              "    <tr>\n",
              "      <th>99995</th>\n",
              "      <td>IDPr[630]</td>\n",
              "      <td>Usuario de Pensión no Contributiva</td>\n",
              "      <td>eduación financiera y empresarial.</td>\n",
              "    </tr>\n",
              "    <tr>\n",
              "      <th>99996</th>\n",
              "      <td>IDPr[4282]</td>\n",
              "      <td>Hogar Vulnerable</td>\n",
              "      <td>salud, educación y erradicación del trabajo i...</td>\n",
              "    </tr>\n",
              "    <tr>\n",
              "      <th>99997</th>\n",
              "      <td>IDPr[5568]</td>\n",
              "      <td>Personas Discapacitadas</td>\n",
              "      <td>Sin condicion</td>\n",
              "    </tr>\n",
              "    <tr>\n",
              "      <th>99998</th>\n",
              "      <td>IDPr[3622]</td>\n",
              "      <td>Adultos Mayores</td>\n",
              "      <td>Sin condicion</td>\n",
              "    </tr>\n",
              "    <tr>\n",
              "      <th>99999</th>\n",
              "      <td>IDPr[591]</td>\n",
              "      <td>Adultos Mayores</td>\n",
              "      <td>Sin condicion</td>\n",
              "    </tr>\n",
              "  </tbody>\n",
              "</table>\n",
              "<p>100000 rows × 3 columns</p>\n",
              "</div>\n",
              "      <button class=\"colab-df-convert\" onclick=\"convertToInteractive('df-4c8ed59d-9e61-460b-a0b3-2c298650c7f6')\"\n",
              "              title=\"Convert this dataframe to an interactive table.\"\n",
              "              style=\"display:none;\">\n",
              "        \n",
              "  <svg xmlns=\"http://www.w3.org/2000/svg\" height=\"24px\"viewBox=\"0 0 24 24\"\n",
              "       width=\"24px\">\n",
              "    <path d=\"M0 0h24v24H0V0z\" fill=\"none\"/>\n",
              "    <path d=\"M18.56 5.44l.94 2.06.94-2.06 2.06-.94-2.06-.94-.94-2.06-.94 2.06-2.06.94zm-11 1L8.5 8.5l.94-2.06 2.06-.94-2.06-.94L8.5 2.5l-.94 2.06-2.06.94zm10 10l.94 2.06.94-2.06 2.06-.94-2.06-.94-.94-2.06-.94 2.06-2.06.94z\"/><path d=\"M17.41 7.96l-1.37-1.37c-.4-.4-.92-.59-1.43-.59-.52 0-1.04.2-1.43.59L10.3 9.45l-7.72 7.72c-.78.78-.78 2.05 0 2.83L4 21.41c.39.39.9.59 1.41.59.51 0 1.02-.2 1.41-.59l7.78-7.78 2.81-2.81c.8-.78.8-2.07 0-2.86zM5.41 20L4 18.59l7.72-7.72 1.47 1.35L5.41 20z\"/>\n",
              "  </svg>\n",
              "      </button>\n",
              "      \n",
              "  <style>\n",
              "    .colab-df-container {\n",
              "      display:flex;\n",
              "      flex-wrap:wrap;\n",
              "      gap: 12px;\n",
              "    }\n",
              "\n",
              "    .colab-df-convert {\n",
              "      background-color: #E8F0FE;\n",
              "      border: none;\n",
              "      border-radius: 50%;\n",
              "      cursor: pointer;\n",
              "      display: none;\n",
              "      fill: #1967D2;\n",
              "      height: 32px;\n",
              "      padding: 0 0 0 0;\n",
              "      width: 32px;\n",
              "    }\n",
              "\n",
              "    .colab-df-convert:hover {\n",
              "      background-color: #E2EBFA;\n",
              "      box-shadow: 0px 1px 2px rgba(60, 64, 67, 0.3), 0px 1px 3px 1px rgba(60, 64, 67, 0.15);\n",
              "      fill: #174EA6;\n",
              "    }\n",
              "\n",
              "    [theme=dark] .colab-df-convert {\n",
              "      background-color: #3B4455;\n",
              "      fill: #D2E3FC;\n",
              "    }\n",
              "\n",
              "    [theme=dark] .colab-df-convert:hover {\n",
              "      background-color: #434B5C;\n",
              "      box-shadow: 0px 1px 3px 1px rgba(0, 0, 0, 0.15);\n",
              "      filter: drop-shadow(0px 1px 2px rgba(0, 0, 0, 0.3));\n",
              "      fill: #FFFFFF;\n",
              "    }\n",
              "  </style>\n",
              "\n",
              "      <script>\n",
              "        const buttonEl =\n",
              "          document.querySelector('#df-4c8ed59d-9e61-460b-a0b3-2c298650c7f6 button.colab-df-convert');\n",
              "        buttonEl.style.display =\n",
              "          google.colab.kernel.accessAllowed ? 'block' : 'none';\n",
              "\n",
              "        async function convertToInteractive(key) {\n",
              "          const element = document.querySelector('#df-4c8ed59d-9e61-460b-a0b3-2c298650c7f6');\n",
              "          const dataTable =\n",
              "            await google.colab.kernel.invokeFunction('convertToInteractive',\n",
              "                                                     [key], {});\n",
              "          if (!dataTable) return;\n",
              "\n",
              "          const docLinkHtml = 'Like what you see? Visit the ' +\n",
              "            '<a target=\"_blank\" href=https://colab.research.google.com/notebooks/data_table.ipynb>data table notebook</a>'\n",
              "            + ' to learn more about interactive tables.';\n",
              "          element.innerHTML = '';\n",
              "          dataTable['output_type'] = 'display_data';\n",
              "          await google.colab.output.renderOutput(dataTable, element);\n",
              "          const docLink = document.createElement('div');\n",
              "          docLink.innerHTML = docLinkHtml;\n",
              "          element.appendChild(docLink);\n",
              "        }\n",
              "      </script>\n",
              "    </div>\n",
              "  </div>\n",
              "  "
            ]
          },
          "metadata": {},
          "execution_count": 114
        }
      ]
    }
  ]
}