{
  "nbformat": 4,
  "nbformat_minor": 0,
  "metadata": {
    "colab": {
      "provenance": []
    },
    "kernelspec": {
      "name": "python3",
      "display_name": "Python 3"
    },
    "language_info": {
      "name": "python"
    }
  },
  "cells": [
    {
      "cell_type": "code",
      "execution_count": 23,
      "metadata": {
        "colab": {
          "base_uri": "https://localhost:8080/"
        },
        "id": "Jq8fgvmPVMF1",
        "outputId": "57d5a8b2-1cf7-45a2-8948-821ac694d8f6"
      },
      "outputs": [
        {
          "output_type": "stream",
          "name": "stdout",
          "text": [
            "Looking in indexes: https://pypi.org/simple, https://us-python.pkg.dev/colab-wheels/public/simple/\n",
            "Requirement already satisfied: faker in /usr/local/lib/python3.7/dist-packages (15.3.2)\n",
            "Requirement already satisfied: typing-extensions>=3.10.0.1 in /usr/local/lib/python3.7/dist-packages (from faker) (4.1.1)\n",
            "Requirement already satisfied: python-dateutil>=2.4 in /usr/local/lib/python3.7/dist-packages (from faker) (2.8.2)\n",
            "Requirement already satisfied: six>=1.5 in /usr/local/lib/python3.7/dist-packages (from python-dateutil>=2.4->faker) (1.15.0)\n"
          ]
        }
      ],
      "source": [
        "pip install faker"
      ]
    },
    {
      "cell_type": "code",
      "source": [
        "pip install features"
      ],
      "metadata": {
        "colab": {
          "base_uri": "https://localhost:8080/"
        },
        "id": "jhOotbnRVeAD",
        "outputId": "78e38936-8e5a-434b-d361-2c145b0a4899"
      },
      "execution_count": 24,
      "outputs": [
        {
          "output_type": "stream",
          "name": "stdout",
          "text": [
            "Looking in indexes: https://pypi.org/simple, https://us-python.pkg.dev/colab-wheels/public/simple/\n",
            "Requirement already satisfied: features in /usr/local/lib/python3.7/dist-packages (0.5.12)\n",
            "Requirement already satisfied: graphviz~=0.7 in /usr/local/lib/python3.7/dist-packages (from features) (0.10.1)\n",
            "Requirement already satisfied: concepts~=0.7 in /usr/local/lib/python3.7/dist-packages (from features) (0.9.2)\n",
            "Requirement already satisfied: fileconfig~=0.5 in /usr/local/lib/python3.7/dist-packages (from features) (0.6.1)\n",
            "Requirement already satisfied: bitsets~=0.7 in /usr/local/lib/python3.7/dist-packages (from concepts~=0.7->features) (0.8.4)\n"
          ]
        }
      ]
    },
    {
      "cell_type": "code",
      "source": [
        "import pandas as pd \n",
        "import uuid  \n",
        "import random        #random para operar o generar números aleatorios\n",
        "from faker import Faker #faker para manejar cualquier informacion artificial\n",
        "import datetime      #importamos datetime permite manipular fechas y horas\n",
        "import features      #crear y seleccionar automáticamente características importantes en su conjunto de datos "
      ],
      "metadata": {
        "id": "CNtHwO3hVhJM"
      },
      "execution_count": 25,
      "outputs": []
    },
    {
      "cell_type": "code",
      "source": [
        "#El tamaño del conjunto de datos será de 5000 Usuarios \n",
        "num_users = 5000"
      ],
      "metadata": {
        "id": "dTmz6mh8Vjri"
      },
      "execution_count": 26,
      "outputs": []
    },
    {
      "cell_type": "code",
      "source": [
        "# A list of 5 features\n",
        "features = [\n",
        "    \"Bono\",\n",
        "    \"Beneficio\",\n",
        "    \"Condicionalidad\"\n",
        "]# Creating a DF for these features\n",
        "df = pd.DataFrame(columns=features)"
      ],
      "metadata": {
        "id": "4ubkj-DyVmHd"
      },
      "execution_count": 27,
      "outputs": []
    },
    {
      "cell_type": "markdown",
      "source": [
        "Creamos los datos para el tipo o nombre de Bono"
      ],
      "metadata": {
        "id": "vt5lWCoBWv2e"
      }
    },
    {
      "cell_type": "code",
      "source": [
        "tipobono = [\"BDH\", \"BDH-V\",\"CDH\",\"Adulto_Mayor\",\"AM_PobrezaE\",\"Discapacitados\"]"
      ],
      "metadata": {
        "id": "LpARprSZV_Mr"
      },
      "execution_count": 28,
      "outputs": []
    },
    {
      "cell_type": "code",
      "source": [
        "df['Bono'] = random.choices(\n",
        "    tipobono,\n",
        "    weights=(16,16,16,16,16,16), \n",
        "    k=num_users\n",
        ")"
      ],
      "metadata": {
        "id": "xDuPe29jWfdc"
      },
      "execution_count": 29,
      "outputs": []
    },
    {
      "cell_type": "markdown",
      "source": [
        "Beneficio este atributo posee la cantidad que se le asigna al beneficiario"
      ],
      "metadata": {
        "id": "WRP7RXz2XTss"
      }
    },
    {
      "cell_type": "code",
      "source": [
        "# The different ratings available\n",
        "ratings = [50,60,600,100,240]# Weighted ratings with a skew towards the ends\n",
        "df['Beneficio'] = random.choices(\n",
        "    ratings, \n",
        "    weights=(30,30,10,50,10), \n",
        "    k=num_users\n",
        ")"
      ],
      "metadata": {
        "id": "qd5LiABmW2wL"
      },
      "execution_count": 30,
      "outputs": []
    },
    {
      "cell_type": "markdown",
      "source": [
        "La condiconalidad es el fin con el que se debe usar ese dinero"
      ],
      "metadata": {
        "id": "Fh-UTb3EYHi2"
      }
    },
    {
      "cell_type": "code",
      "source": [
        "tipocondicion = [\"salud y educacion\", \"eduacion financiera\",\"ninguna\"]"
      ],
      "metadata": {
        "id": "cL0A_yGZYLzg"
      },
      "execution_count": 31,
      "outputs": []
    },
    {
      "cell_type": "code",
      "source": [
        "df['Condicionalidad'] = random.choices(\n",
        "    tipocondicion,\n",
        "    weights=(50,10,40), \n",
        "    k=num_users\n",
        ")"
      ],
      "metadata": {
        "id": "vIrYk6dpYfws"
      },
      "execution_count": 32,
      "outputs": []
    },
    {
      "cell_type": "code",
      "source": [
        "df.to_csv('dataset_users.csv')"
      ],
      "metadata": {
        "id": "VB5EscyiY8dT"
      },
      "execution_count": 33,
      "outputs": []
    },
    {
      "cell_type": "code",
      "source": [
        "df"
      ],
      "metadata": {
        "colab": {
          "base_uri": "https://localhost:8080/",
          "height": 424
        },
        "id": "K3aGRl0sY9hT",
        "outputId": "5d1927f9-caed-4e50-ad7f-f6f7262df0b0"
      },
      "execution_count": 35,
      "outputs": [
        {
          "output_type": "execute_result",
          "data": {
            "text/plain": [
              "                Bono  Beneficio    Condicionalidad\n",
              "0                CDH         50  salud y educacion\n",
              "1        AM_PobrezaE         60            ninguna\n",
              "2       Adulto_Mayor         50  salud y educacion\n",
              "3              BDH-V         60            ninguna\n",
              "4                BDH        240            ninguna\n",
              "...              ...        ...                ...\n",
              "4995             BDH         60  salud y educacion\n",
              "4996           BDH-V         60            ninguna\n",
              "4997     AM_PobrezaE        100            ninguna\n",
              "4998  Discapacitados        100  salud y educacion\n",
              "4999    Adulto_Mayor        100  salud y educacion\n",
              "\n",
              "[5000 rows x 3 columns]"
            ],
            "text/html": [
              "\n",
              "  <div id=\"df-a27618ef-a745-4ae5-8724-2fed72914c66\">\n",
              "    <div class=\"colab-df-container\">\n",
              "      <div>\n",
              "<style scoped>\n",
              "    .dataframe tbody tr th:only-of-type {\n",
              "        vertical-align: middle;\n",
              "    }\n",
              "\n",
              "    .dataframe tbody tr th {\n",
              "        vertical-align: top;\n",
              "    }\n",
              "\n",
              "    .dataframe thead th {\n",
              "        text-align: right;\n",
              "    }\n",
              "</style>\n",
              "<table border=\"1\" class=\"dataframe\">\n",
              "  <thead>\n",
              "    <tr style=\"text-align: right;\">\n",
              "      <th></th>\n",
              "      <th>Bono</th>\n",
              "      <th>Beneficio</th>\n",
              "      <th>Condicionalidad</th>\n",
              "    </tr>\n",
              "  </thead>\n",
              "  <tbody>\n",
              "    <tr>\n",
              "      <th>0</th>\n",
              "      <td>CDH</td>\n",
              "      <td>50</td>\n",
              "      <td>salud y educacion</td>\n",
              "    </tr>\n",
              "    <tr>\n",
              "      <th>1</th>\n",
              "      <td>AM_PobrezaE</td>\n",
              "      <td>60</td>\n",
              "      <td>ninguna</td>\n",
              "    </tr>\n",
              "    <tr>\n",
              "      <th>2</th>\n",
              "      <td>Adulto_Mayor</td>\n",
              "      <td>50</td>\n",
              "      <td>salud y educacion</td>\n",
              "    </tr>\n",
              "    <tr>\n",
              "      <th>3</th>\n",
              "      <td>BDH-V</td>\n",
              "      <td>60</td>\n",
              "      <td>ninguna</td>\n",
              "    </tr>\n",
              "    <tr>\n",
              "      <th>4</th>\n",
              "      <td>BDH</td>\n",
              "      <td>240</td>\n",
              "      <td>ninguna</td>\n",
              "    </tr>\n",
              "    <tr>\n",
              "      <th>...</th>\n",
              "      <td>...</td>\n",
              "      <td>...</td>\n",
              "      <td>...</td>\n",
              "    </tr>\n",
              "    <tr>\n",
              "      <th>4995</th>\n",
              "      <td>BDH</td>\n",
              "      <td>60</td>\n",
              "      <td>salud y educacion</td>\n",
              "    </tr>\n",
              "    <tr>\n",
              "      <th>4996</th>\n",
              "      <td>BDH-V</td>\n",
              "      <td>60</td>\n",
              "      <td>ninguna</td>\n",
              "    </tr>\n",
              "    <tr>\n",
              "      <th>4997</th>\n",
              "      <td>AM_PobrezaE</td>\n",
              "      <td>100</td>\n",
              "      <td>ninguna</td>\n",
              "    </tr>\n",
              "    <tr>\n",
              "      <th>4998</th>\n",
              "      <td>Discapacitados</td>\n",
              "      <td>100</td>\n",
              "      <td>salud y educacion</td>\n",
              "    </tr>\n",
              "    <tr>\n",
              "      <th>4999</th>\n",
              "      <td>Adulto_Mayor</td>\n",
              "      <td>100</td>\n",
              "      <td>salud y educacion</td>\n",
              "    </tr>\n",
              "  </tbody>\n",
              "</table>\n",
              "<p>5000 rows × 3 columns</p>\n",
              "</div>\n",
              "      <button class=\"colab-df-convert\" onclick=\"convertToInteractive('df-a27618ef-a745-4ae5-8724-2fed72914c66')\"\n",
              "              title=\"Convert this dataframe to an interactive table.\"\n",
              "              style=\"display:none;\">\n",
              "        \n",
              "  <svg xmlns=\"http://www.w3.org/2000/svg\" height=\"24px\"viewBox=\"0 0 24 24\"\n",
              "       width=\"24px\">\n",
              "    <path d=\"M0 0h24v24H0V0z\" fill=\"none\"/>\n",
              "    <path d=\"M18.56 5.44l.94 2.06.94-2.06 2.06-.94-2.06-.94-.94-2.06-.94 2.06-2.06.94zm-11 1L8.5 8.5l.94-2.06 2.06-.94-2.06-.94L8.5 2.5l-.94 2.06-2.06.94zm10 10l.94 2.06.94-2.06 2.06-.94-2.06-.94-.94-2.06-.94 2.06-2.06.94z\"/><path d=\"M17.41 7.96l-1.37-1.37c-.4-.4-.92-.59-1.43-.59-.52 0-1.04.2-1.43.59L10.3 9.45l-7.72 7.72c-.78.78-.78 2.05 0 2.83L4 21.41c.39.39.9.59 1.41.59.51 0 1.02-.2 1.41-.59l7.78-7.78 2.81-2.81c.8-.78.8-2.07 0-2.86zM5.41 20L4 18.59l7.72-7.72 1.47 1.35L5.41 20z\"/>\n",
              "  </svg>\n",
              "      </button>\n",
              "      \n",
              "  <style>\n",
              "    .colab-df-container {\n",
              "      display:flex;\n",
              "      flex-wrap:wrap;\n",
              "      gap: 12px;\n",
              "    }\n",
              "\n",
              "    .colab-df-convert {\n",
              "      background-color: #E8F0FE;\n",
              "      border: none;\n",
              "      border-radius: 50%;\n",
              "      cursor: pointer;\n",
              "      display: none;\n",
              "      fill: #1967D2;\n",
              "      height: 32px;\n",
              "      padding: 0 0 0 0;\n",
              "      width: 32px;\n",
              "    }\n",
              "\n",
              "    .colab-df-convert:hover {\n",
              "      background-color: #E2EBFA;\n",
              "      box-shadow: 0px 1px 2px rgba(60, 64, 67, 0.3), 0px 1px 3px 1px rgba(60, 64, 67, 0.15);\n",
              "      fill: #174EA6;\n",
              "    }\n",
              "\n",
              "    [theme=dark] .colab-df-convert {\n",
              "      background-color: #3B4455;\n",
              "      fill: #D2E3FC;\n",
              "    }\n",
              "\n",
              "    [theme=dark] .colab-df-convert:hover {\n",
              "      background-color: #434B5C;\n",
              "      box-shadow: 0px 1px 3px 1px rgba(0, 0, 0, 0.15);\n",
              "      filter: drop-shadow(0px 1px 2px rgba(0, 0, 0, 0.3));\n",
              "      fill: #FFFFFF;\n",
              "    }\n",
              "  </style>\n",
              "\n",
              "      <script>\n",
              "        const buttonEl =\n",
              "          document.querySelector('#df-a27618ef-a745-4ae5-8724-2fed72914c66 button.colab-df-convert');\n",
              "        buttonEl.style.display =\n",
              "          google.colab.kernel.accessAllowed ? 'block' : 'none';\n",
              "\n",
              "        async function convertToInteractive(key) {\n",
              "          const element = document.querySelector('#df-a27618ef-a745-4ae5-8724-2fed72914c66');\n",
              "          const dataTable =\n",
              "            await google.colab.kernel.invokeFunction('convertToInteractive',\n",
              "                                                     [key], {});\n",
              "          if (!dataTable) return;\n",
              "\n",
              "          const docLinkHtml = 'Like what you see? Visit the ' +\n",
              "            '<a target=\"_blank\" href=https://colab.research.google.com/notebooks/data_table.ipynb>data table notebook</a>'\n",
              "            + ' to learn more about interactive tables.';\n",
              "          element.innerHTML = '';\n",
              "          dataTable['output_type'] = 'display_data';\n",
              "          await google.colab.output.renderOutput(dataTable, element);\n",
              "          const docLink = document.createElement('div');\n",
              "          docLink.innerHTML = docLinkHtml;\n",
              "          element.appendChild(docLink);\n",
              "        }\n",
              "      </script>\n",
              "    </div>\n",
              "  </div>\n",
              "  "
            ]
          },
          "metadata": {},
          "execution_count": 35
        }
      ]
    }
  ]
}